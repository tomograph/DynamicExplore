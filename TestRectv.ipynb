{
 "cells": [
  {
   "cell_type": "markdown",
   "id": "8cbd8363",
   "metadata": {},
   "source": [
    "This is a script for probing the capabilities of the rectv algorithm by Nikitin. This script should be run with py39 conda environment. First lets load some packages we need. "
   ]
  },
  {
   "cell_type": "code",
   "execution_count": 3,
   "id": "0dac6c10",
   "metadata": {},
   "outputs": [],
   "source": [
    "import rectv_gpu\n",
    "import numpy as np\n",
    "import dxchange\n",
    "import matplotlib.pyplot as plt\n",
    "import ipywidgets as widgets\n",
    "from os import listdir\n",
    "from os.path import join\n",
    "from ImageSliceViewer3D import *\n",
    "import tomopy"
   ]
  },
  {
   "cell_type": "markdown",
   "id": "10da7eaf",
   "metadata": {},
   "source": [
    "I have used the script in PhantomGenerato \"xraysim.py\" to simulate some dynamic data. The data generation has a bit of a finicky problem requiring some transposing for the data to work. Good thing is that the blender file can be changed to create more/less motion. We can run the simulation like this: blender input/particle_test.blend --frame-start 1 --frame-end 180 -o output/Simulation/ --background --python xraysim.py -- --numberofangles 180 --anglesperframe 1 -n Empty\n"
   ]
  },
  {
   "cell_type": "code",
   "execution_count": 4,
   "id": "fd3c0704",
   "metadata": {},
   "outputs": [
    {
     "data": {
      "text/plain": [
       "(128, 2400, 128)"
      ]
     },
     "execution_count": 4,
     "metadata": {},
     "output_type": "execute_result"
    }
   ],
   "source": [
    "filepath = \"PhantomGenerator/output/RECTVData\"\n",
    "files = [file for file in np.sort(listdir(filepath)) if file.endswith(\".npy\")]\n",
    "height, width = np.load(join(filepath,files[0])).shape\n",
    "depth = len(files)\n",
    "volume = np.zeros((depth, height, width))\n",
    "for i,file in enumerate(files):\n",
    "    volume[i,:,:] = np.load(join(filepath,file))\n",
    "\n",
    "volume = volume.astype('float32')\n",
    "#Need a bit of trasposing for the data to work....\n",
    "#data = np.swapaxes(volume, 1,2)\n",
    "data = np.swapaxes(volume, 1,0)\n",
    "[nz, ntheta, n] = data.shape\n",
    "nz, ntheta, n"
   ]
  },
  {
   "cell_type": "markdown",
   "id": "70a8ea35",
   "metadata": {},
   "source": [
    "ImageSliceViewer can be used to view the data. You can see it once you up the slice number"
   ]
  },
  {
   "cell_type": "code",
   "execution_count": 5,
   "id": "efbb6c80",
   "metadata": {
    "scrolled": true
   },
   "outputs": [
    {
     "data": {
      "application/vnd.jupyter.widget-view+json": {
       "model_id": "03453b3797064e56b7c806e1674d6464",
       "version_major": 2,
       "version_minor": 0
      },
      "text/plain": [
       "VBox(children=(Output(), BoundedIntText(value=0, description='Image Slice:', max=127)))"
      ]
     },
     "metadata": {},
     "output_type": "display_data"
    },
    {
     "data": {
      "text/plain": [
       "<ImageSliceViewer3D.ImageSliceViewer3D at 0x7fc360b974f0>"
      ]
     },
     "execution_count": 5,
     "metadata": {},
     "output_type": "execute_result"
    }
   ],
   "source": [
    "ImageSliceViewer3D(data)"
   ]
  },
  {
   "cell_type": "code",
   "execution_count": 6,
   "id": "45906b02",
   "metadata": {},
   "outputs": [],
   "source": [
    "rot_center = n//2"
   ]
  },
  {
   "cell_type": "code",
   "execution_count": 7,
   "id": "f65078de",
   "metadata": {},
   "outputs": [],
   "source": [
    "#print(theta[100:200])\n",
    "theta = np.linspace(0, 8*np.pi, ntheta, endpoint=False).astype('float32')"
   ]
  },
  {
   "cell_type": "markdown",
   "id": "e523e3e2",
   "metadata": {},
   "source": [
    "By using tomopy for reconstruction we see that static parts are reconstructed but moving particle is causing artifacts."
   ]
  },
  {
   "cell_type": "code",
   "execution_count": 8,
   "id": "6cfa67cc",
   "metadata": {},
   "outputs": [
    {
     "data": {
      "application/vnd.jupyter.widget-view+json": {
       "model_id": "a056346076d34cae8e52ab446ad1c8ef",
       "version_major": 2,
       "version_minor": 0
      },
      "text/plain": [
       "VBox(children=(Output(), BoundedIntText(value=0, description='Image Slice:', max=127)))"
      ]
     },
     "metadata": {},
     "output_type": "display_data"
    },
    {
     "data": {
      "text/plain": [
       "<ImageSliceViewer3D.ImageSliceViewer3D at 0x7fc360a43c70>"
      ]
     },
     "execution_count": 8,
     "metadata": {},
     "output_type": "execute_result"
    }
   ],
   "source": [
    "recon = tomopy.recon(np.swapaxes(data, 0,1), theta, center=rot_center, algorithm='fbp', ncore=32)\n",
    "ImageSliceViewer3D(recon)"
   ]
  },
  {
   "cell_type": "markdown",
   "id": "706c041e",
   "metadata": {},
   "source": [
    "We could try and load rectv test data just to see how this works with tomopy gridrec - it will also give us an understandig of how the data is indexed"
   ]
  },
  {
   "cell_type": "code",
   "execution_count": 9,
   "id": "852de124",
   "metadata": {},
   "outputs": [],
   "source": [
    "def takephi(ntheta):\n",
    "    m = 32 # number of basis functions\n",
    "    [x, y] = np.meshgrid(np.arange(-ntheta//2, ntheta//2), np.arange(-m//2, m//2))\n",
    "    phi = np.zeros([m, 2*ntheta], dtype='float32')\n",
    "    phi[:, ::2] = np.cos(2*np.pi*x*y/ntheta)/np.sqrt(ntheta)\n",
    "    phi[:, 1::2] = np.sin(2*np.pi*x*y/ntheta)/np.sqrt(ntheta)\n",
    "    return phi"
   ]
  },
  {
   "cell_type": "code",
   "execution_count": 11,
   "id": "99caf4c3",
   "metadata": {},
   "outputs": [],
   "source": [
    "#lambda0 = 1e-3  # regularization parameter 1\n",
    "#lambda1 = 1  #regularization parameter 2"
   ]
  },
  {
   "cell_type": "code",
   "execution_count": 12,
   "id": "70f45cde",
   "metadata": {},
   "outputs": [],
   "source": [
    "niter = 32  # number of ADMM iterations\n",
    "titer = 4  # number of inner tomography iterations"
   ]
  },
  {
   "cell_type": "code",
   "execution_count": 13,
   "id": "5e5797c5",
   "metadata": {},
   "outputs": [],
   "source": [
    "nzp = 4 # number of slices to process simultaniously by gpu\n",
    "ngpus = 1 # number of gpus"
   ]
  },
  {
   "cell_type": "code",
   "execution_count": 14,
   "id": "044b085d",
   "metadata": {},
   "outputs": [
    {
     "data": {
      "text/plain": [
       "(array([[ 2.04124153e-02, -3.99967965e-17,  2.03945097e-02, ...,\n",
       "          1.70806679e-03,  2.03945097e-02,  8.54783226e-04],\n",
       "        [-2.04124153e-02,  1.10016464e-16, -2.03966778e-02, ...,\n",
       "         -1.60153955e-03, -2.03966778e-02, -8.01387650e-04],\n",
       "        [ 2.04124153e-02, -3.49971978e-17,  2.03987062e-02, ...,\n",
       "          1.49496843e-03,  2.03987062e-02,  7.47986545e-04],\n",
       "        ...,\n",
       "        [-2.04124153e-02,  4.00220652e-17, -2.04005931e-02, ...,\n",
       "          1.38835632e-03, -2.04005931e-02,  6.94580376e-04],\n",
       "        [ 2.04124153e-02,  3.49971978e-17,  2.03987062e-02, ...,\n",
       "         -1.49496843e-03,  2.03987062e-02, -7.47986545e-04],\n",
       "        [-2.04124153e-02, -1.10016464e-16, -2.03966778e-02, ...,\n",
       "          1.60153955e-03, -2.03966778e-02,  8.01387650e-04]], dtype=float32),\n",
       " 32)"
      ]
     },
     "execution_count": 14,
     "metadata": {},
     "output_type": "execute_result"
    }
   ],
   "source": [
    "phi = takephi(ntheta) \n",
    "m = phi.shape[0] # number of basis functions\n",
    "phi, m"
   ]
  },
  {
   "cell_type": "code",
   "execution_count": null,
   "id": "85e2d66a",
   "metadata": {},
   "outputs": [],
   "source": [
    "cl = rectv_gpu.Solver(n, ntheta, m, nz, nzp, ngpus)"
   ]
  },
  {
   "cell_type": "code",
   "execution_count": null,
   "id": "f8c28eb4",
   "metadata": {},
   "outputs": [],
   "source": [
    "#try varying the last arguments\n",
    "rtv = cl.recon(data, theta, phi, rot_center=rot_center, niter=200, titer=4,lambda0=1e-2, lambda1=100)"
   ]
  },
  {
   "cell_type": "code",
   "execution_count": null,
   "id": "c82e3b16",
   "metadata": {},
   "outputs": [],
   "source": [
    "ImageSliceViewer3D(rtv[0])"
   ]
  },
  {
   "cell_type": "code",
   "execution_count": null,
   "id": "c411bc58",
   "metadata": {},
   "outputs": [],
   "source": []
  },
  {
   "cell_type": "code",
   "execution_count": null,
   "id": "6864bedd",
   "metadata": {
    "scrolled": true
   },
   "outputs": [],
   "source": [
    "ImageSliceViewer3D(rtv[:,0])"
   ]
  },
  {
   "cell_type": "code",
   "execution_count": null,
   "id": "0478d621",
   "metadata": {},
   "outputs": [],
   "source": [
    "rtv.shape\n"
   ]
  },
  {
   "cell_type": "code",
   "execution_count": null,
   "id": "641f1bc6",
   "metadata": {},
   "outputs": [],
   "source": [
    "nz, ntheta, n\n"
   ]
  },
  {
   "cell_type": "code",
   "execution_count": null,
   "id": "a1eafa98",
   "metadata": {},
   "outputs": [],
   "source": [
    "\n",
    "slice = 58\n",
    "time = 2\n",
    "plt.imshow(rtv[slice,time])\n",
    "plt.show()"
   ]
  },
  {
   "cell_type": "code",
   "execution_count": null,
   "id": "f6b234f1",
   "metadata": {},
   "outputs": [],
   "source": [
    "phi.shape"
   ]
  },
  {
   "cell_type": "code",
   "execution_count": null,
   "id": "c7c1d914",
   "metadata": {},
   "outputs": [],
   "source": [
    "48000/16\n"
   ]
  },
  {
   "cell_type": "code",
   "execution_count": null,
   "id": "da362c82",
   "metadata": {},
   "outputs": [],
   "source": [
    "ntheta=2400\n",
    "m = 16\n",
    "[x, y] = np.meshgrid(np.arange(-ntheta//2, ntheta//2), np.arange(-m//2, m//2))"
   ]
  },
  {
   "cell_type": "code",
   "execution_count": null,
   "id": "76dd3a9d",
   "metadata": {},
   "outputs": [],
   "source": [
    "x, y"
   ]
  },
  {
   "cell_type": "code",
   "execution_count": null,
   "id": "ee83a1a3",
   "metadata": {},
   "outputs": [],
   "source": [
    "phi = np.zeros([m, 2*ntheta], dtype='float32')"
   ]
  },
  {
   "cell_type": "code",
   "execution_count": 15,
   "id": "d468cf7a",
   "metadata": {},
   "outputs": [
    {
     "data": {
      "text/plain": [
       "(32, 4800)"
      ]
     },
     "execution_count": 15,
     "metadata": {},
     "output_type": "execute_result"
    }
   ],
   "source": [
    "phi.shape"
   ]
  },
  {
   "cell_type": "code",
   "execution_count": null,
   "id": "4d438323",
   "metadata": {},
   "outputs": [],
   "source": []
  }
 ],
 "metadata": {
  "kernelspec": {
   "display_name": "py39",
   "language": "python",
   "name": "py39"
  },
  "language_info": {
   "codemirror_mode": {
    "name": "ipython",
    "version": 3
   },
   "file_extension": ".py",
   "mimetype": "text/x-python",
   "name": "python",
   "nbconvert_exporter": "python",
   "pygments_lexer": "ipython3",
   "version": "3.9.0"
  }
 },
 "nbformat": 4,
 "nbformat_minor": 5
}
