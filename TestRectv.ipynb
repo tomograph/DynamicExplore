{
 "cells": [
  {
   "cell_type": "markdown",
   "id": "8cbd8363",
   "metadata": {},
   "source": [
    "This is a script for probing the capabilities of the rectv algorithm by Nikitin. This script should be run with py39 conda environment. First lets load some packages we need. "
   ]
  },
  {
   "cell_type": "code",
   "execution_count": 9,
   "id": "0dac6c10",
   "metadata": {},
   "outputs": [],
   "source": [
    "import rectv_gpu\n",
    "import numpy as np\n",
    "import dxchange\n",
    "import matplotlib.pyplot as plt\n",
    "import ipywidgets as widgets\n",
    "from os import listdir\n",
    "from os.path import join\n",
    "from ImageSliceViewer3D import *\n",
    "import tomopy"
   ]
  },
  {
   "cell_type": "markdown",
   "id": "10da7eaf",
   "metadata": {},
   "source": [
    "I have used the script in PhantomGenerato \"xraysim.py\" to simulate some dynamic data. The data generation has a bit of a finicky problem requiring some transposing for the data to work. Good thing is that the blender file can be changed to create more/less motion. We can run the simulation like this: blender input/particle_test.blend --frame-start 1 --frame-end 180 -o output/Simulation/ --background --python xraysim.py -- --numberofangles 180 --anglesperframe 1 -n Empty\n"
   ]
  },
  {
   "cell_type": "code",
   "execution_count": 23,
   "id": "fd3c0704",
   "metadata": {},
   "outputs": [
    {
     "data": {
      "text/plain": [
       "(512, 240, 512)"
      ]
     },
     "execution_count": 23,
     "metadata": {},
     "output_type": "execute_result"
    }
   ],
   "source": [
    "filepath = filepath = \"../PhantomGenerator/output/slow_fast\"\n",
    "files = [file for file in np.sort(listdir(filepath)) if file.endswith(\".npy\")]\n",
    "height, width = np.load(join(filepath,files[0])).shape\n",
    "depth = len(files)\n",
    "volume = np.zeros((depth, height, width))\n",
    "for i,file in enumerate(files):\n",
    "    volume[i,:,:] = np.load(join(filepath,file))\n",
    "\n",
    "volume = volume.astype('float32')\n",
    "#Need a bit of trasposing for the data to work....\n",
    "#data = np.swapaxes(volume, 1,2)\n",
    "data = np.swapaxes(volume, 1,0)#[200:250]\n",
    "[nz, ntheta, n] = data.shape\n",
    "nz, ntheta, n"
   ]
  },
  {
   "cell_type": "markdown",
   "id": "70a8ea35",
   "metadata": {},
   "source": [
    "ImageSliceViewer can be used to view the data. You can see it once you up the slice number"
   ]
  },
  {
   "cell_type": "code",
   "execution_count": 24,
   "id": "efbb6c80",
   "metadata": {
    "scrolled": true
   },
   "outputs": [
    {
     "data": {
      "application/vnd.jupyter.widget-view+json": {
       "model_id": "f7449fe72f89408ea96ffb2547a46715",
       "version_major": 2,
       "version_minor": 0
      },
      "text/plain": [
       "VBox(children=(Output(), BoundedIntText(value=0, description='Image Slice:', max=511)))"
      ]
     },
     "metadata": {},
     "output_type": "display_data"
    },
    {
     "data": {
      "text/plain": [
       "<ImageSliceViewer3D.ImageSliceViewer3D at 0x7fec66515a00>"
      ]
     },
     "execution_count": 24,
     "metadata": {},
     "output_type": "execute_result"
    }
   ],
   "source": [
    "ImageSliceViewer3D(data)"
   ]
  },
  {
   "cell_type": "code",
   "execution_count": 14,
   "id": "45906b02",
   "metadata": {},
   "outputs": [],
   "source": [
    "rot_center = n//2"
   ]
  },
  {
   "cell_type": "code",
   "execution_count": 15,
   "id": "f65078de",
   "metadata": {},
   "outputs": [],
   "source": [
    "#print(theta[100:200])\n",
    "theta = np.linspace(0, 8*np.pi, ntheta, endpoint=False).astype('float32')"
   ]
  },
  {
   "cell_type": "markdown",
   "id": "e523e3e2",
   "metadata": {},
   "source": [
    "By using tomopy for reconstruction we see that static parts are reconstructed but moving particle is causing artifacts."
   ]
  },
  {
   "cell_type": "code",
   "execution_count": 6,
   "id": "6cfa67cc",
   "metadata": {},
   "outputs": [
    {
     "data": {
      "application/vnd.jupyter.widget-view+json": {
       "model_id": "992a4bb077f3435ab1ad9a5ae72bc0e1",
       "version_major": 2,
       "version_minor": 0
      },
      "text/plain": [
       "VBox(children=(Output(), BoundedIntText(value=0, description='Image Slice:', max=49)))"
      ]
     },
     "metadata": {},
     "output_type": "display_data"
    },
    {
     "data": {
      "text/plain": [
       "<ImageSliceViewer3D.ImageSliceViewer3D at 0x7fda5ed08f10>"
      ]
     },
     "execution_count": 6,
     "metadata": {},
     "output_type": "execute_result"
    }
   ],
   "source": [
    "recon = tomopy.recon(np.swapaxes(data, 0,1), theta, center=rot_center, algorithm='fbp', ncore=32)\n",
    "ImageSliceViewer3D(recon)"
   ]
  },
  {
   "cell_type": "markdown",
   "id": "706c041e",
   "metadata": {},
   "source": [
    "We could try and load rectv test data just to see how this works with tomopy gridrec - it will also give us an understandig of how the data is indexed"
   ]
  },
  {
   "cell_type": "code",
   "execution_count": 7,
   "id": "852de124",
   "metadata": {},
   "outputs": [],
   "source": [
    "def takephi(ntheta):\n",
    "    m = 8 # number of basis functions\n",
    "    [x, y] = np.meshgrid(np.arange(-ntheta//2, ntheta//2), np.arange(-m//2, m//2))\n",
    "    phi = np.zeros([m, 2*ntheta], dtype='float32')\n",
    "    phi[:, ::2] = np.cos(2*np.pi*x*y/ntheta)/np.sqrt(ntheta)\n",
    "    phi[:, 1::2] = np.sin(2*np.pi*x*y/ntheta)/np.sqrt(ntheta)\n",
    "    return phi"
   ]
  },
  {
   "cell_type": "code",
   "execution_count": 8,
   "id": "99caf4c3",
   "metadata": {},
   "outputs": [],
   "source": [
    "#lambda0 = 1e-3  # regularization parameter 1\n",
    "#lambda1 = 1  #regularization parameter 2"
   ]
  },
  {
   "cell_type": "code",
   "execution_count": 9,
   "id": "70f45cde",
   "metadata": {},
   "outputs": [],
   "source": [
    "niter = 32  # number of ADMM iterations\n",
    "titer = 4  # number of inner tomography iterations"
   ]
  },
  {
   "cell_type": "code",
   "execution_count": 10,
   "id": "5e5797c5",
   "metadata": {},
   "outputs": [],
   "source": [
    "nzp = 4 # number of slices to process simultaniously by gpu\n",
    "ngpus = 1 # number of gpus"
   ]
  },
  {
   "cell_type": "code",
   "execution_count": 11,
   "id": "044b085d",
   "metadata": {},
   "outputs": [
    {
     "data": {
      "text/plain": [
       "(array([[ 6.4549722e-02, -1.4628358e-16,  6.4196110e-02, ...,\n",
       "          1.3420642e-02,  6.4196110e-02,  6.7472835e-03],\n",
       "        [-6.4549722e-02,  1.3837853e-16, -6.4350739e-02, ...,\n",
       "         -1.0097802e-02, -6.4350739e-02, -5.0645131e-03],\n",
       "        [ 6.4549722e-02, -7.3141791e-17,  6.4461261e-02, ...,\n",
       "          6.7472835e-03,  6.4461261e-02,  3.3782714e-03],\n",
       "        ...,\n",
       "        [-6.4549722e-02, -3.6570896e-17, -6.4527601e-02, ...,\n",
       "          3.3782714e-03, -6.4527601e-02,  1.6897147e-03],\n",
       "        [ 6.4549722e-02,  7.3141791e-17,  6.4461261e-02, ...,\n",
       "         -6.7472835e-03,  6.4461261e-02, -3.3782714e-03],\n",
       "        [-6.4549722e-02, -1.3837853e-16, -6.4350739e-02, ...,\n",
       "          1.0097802e-02, -6.4350739e-02,  5.0645131e-03]], dtype=float32),\n",
       " 8)"
      ]
     },
     "execution_count": 11,
     "metadata": {},
     "output_type": "execute_result"
    }
   ],
   "source": [
    "phi = takephi(ntheta) \n",
    "m = phi.shape[0] # number of basis functions\n",
    "phi, m"
   ]
  },
  {
   "cell_type": "code",
   "execution_count": 12,
   "id": "85e2d66a",
   "metadata": {},
   "outputs": [],
   "source": [
    "cl = rectv_gpu.Solver(n, ntheta, m, nz, nzp, ngpus)"
   ]
  },
  {
   "cell_type": "code",
   "execution_count": 13,
   "id": "f8c28eb4",
   "metadata": {},
   "outputs": [
    {
     "name": "stderr",
     "output_type": "stream",
     "text": [
      "iter (0/200), rdiff ||f(k+1)-f(k)||:2449.462166 \n",
      "iter (1/200), rdiff ||f(k+1)-f(k)||:360.149248 \n",
      "iter (2/200), rdiff ||f(k+1)-f(k)||:346.731765 \n",
      "iter (3/200), rdiff ||f(k+1)-f(k)||:149.917945 \n",
      "iter (4/200), rdiff ||f(k+1)-f(k)||:91.061539 \n",
      "iter (5/200), rdiff ||f(k+1)-f(k)||:61.977396 \n",
      "iter (6/200), rdiff ||f(k+1)-f(k)||:70.228648 \n",
      "iter (7/200), rdiff ||f(k+1)-f(k)||:67.777116 \n",
      "iter (8/200), rdiff ||f(k+1)-f(k)||:57.667191 \n",
      "iter (9/200), rdiff ||f(k+1)-f(k)||:38.891813 \n",
      "iter (10/200), rdiff ||f(k+1)-f(k)||:21.856491 \n",
      "iter (11/200), rdiff ||f(k+1)-f(k)||:11.751690 \n",
      "iter (12/200), rdiff ||f(k+1)-f(k)||:8.202432 \n",
      "iter (13/200), rdiff ||f(k+1)-f(k)||:12.300761 \n",
      "iter (14/200), rdiff ||f(k+1)-f(k)||:21.083132 \n",
      "iter (15/200), rdiff ||f(k+1)-f(k)||:65.668859 \n",
      "iter (16/200), rdiff ||f(k+1)-f(k)||:15.123346 \n",
      "iter (17/200), rdiff ||f(k+1)-f(k)||:6.177432 \n",
      "iter (18/200), rdiff ||f(k+1)-f(k)||:3.129734 \n",
      "iter (19/200), rdiff ||f(k+1)-f(k)||:2.790245 \n",
      "iter (20/200), rdiff ||f(k+1)-f(k)||:3.556715 \n",
      "iter (21/200), rdiff ||f(k+1)-f(k)||:29.703811 \n",
      "iter (22/200), rdiff ||f(k+1)-f(k)||:187.089527 \n",
      "iter (23/200), rdiff ||f(k+1)-f(k)||:28.318751 \n",
      "iter (24/200), rdiff ||f(k+1)-f(k)||:8.648443 \n",
      "iter (25/200), rdiff ||f(k+1)-f(k)||:1.549490 \n",
      "iter (26/200), rdiff ||f(k+1)-f(k)||:1.066383 \n",
      "iter (27/200), rdiff ||f(k+1)-f(k)||:0.991800 \n",
      "iter (28/200), rdiff ||f(k+1)-f(k)||:0.966316 \n",
      "iter (29/200), rdiff ||f(k+1)-f(k)||:7.686499 \n",
      "iter (30/200), rdiff ||f(k+1)-f(k)||:48.663921 \n",
      "iter (31/200), rdiff ||f(k+1)-f(k)||:7.341188 \n",
      "iter (32/200), rdiff ||f(k+1)-f(k)||:2.360216 \n",
      "iter (33/200), rdiff ||f(k+1)-f(k)||:0.511360 \n",
      "iter (34/200), rdiff ||f(k+1)-f(k)||:0.366349 \n",
      "iter (35/200), rdiff ||f(k+1)-f(k)||:0.375969 \n",
      "iter (36/200), rdiff ||f(k+1)-f(k)||:15.149219 \n",
      "iter (37/200), rdiff ||f(k+1)-f(k)||:103.733299 \n",
      "iter (38/200), rdiff ||f(k+1)-f(k)||:15.031581 \n",
      "iter (39/200), rdiff ||f(k+1)-f(k)||:4.262001 \n",
      "iter (40/200), rdiff ||f(k+1)-f(k)||:0.393960 \n",
      "iter (41/200), rdiff ||f(k+1)-f(k)||:0.155975 \n",
      "iter (42/200), rdiff ||f(k+1)-f(k)||:0.232926 \n",
      "iter (43/200), rdiff ||f(k+1)-f(k)||:29.911656 \n",
      "iter (44/200), rdiff ||f(k+1)-f(k)||:207.303061 \n",
      "iter (45/200), rdiff ||f(k+1)-f(k)||:15.796842 \n",
      "iter (46/200), rdiff ||f(k+1)-f(k)||:10.756977 \n",
      "iter (47/200), rdiff ||f(k+1)-f(k)||:1.271607 \n",
      "iter (48/200), rdiff ||f(k+1)-f(k)||:0.240793 \n",
      "iter (49/200), rdiff ||f(k+1)-f(k)||:0.101280 \n",
      "iter (50/200), rdiff ||f(k+1)-f(k)||:0.079258 \n",
      "iter (51/200), rdiff ||f(k+1)-f(k)||:0.060341 \n",
      "iter (52/200), rdiff ||f(k+1)-f(k)||:0.059635 \n",
      "iter (53/200), rdiff ||f(k+1)-f(k)||:1.878215 \n",
      "iter (54/200), rdiff ||f(k+1)-f(k)||:12.480587 \n",
      "iter (55/200), rdiff ||f(k+1)-f(k)||:1.669888 \n",
      "iter (56/200), rdiff ||f(k+1)-f(k)||:0.550817 \n",
      "iter (57/200), rdiff ||f(k+1)-f(k)||:0.071352 \n",
      "iter (58/200), rdiff ||f(k+1)-f(k)||:0.038582 \n",
      "iter (59/200), rdiff ||f(k+1)-f(k)||:0.049027 \n",
      "iter (60/200), rdiff ||f(k+1)-f(k)||:3.360484 \n",
      "iter (61/200), rdiff ||f(k+1)-f(k)||:23.214771 \n",
      "iter (62/200), rdiff ||f(k+1)-f(k)||:3.378440 \n",
      "iter (63/200), rdiff ||f(k+1)-f(k)||:0.943645 \n",
      "iter (64/200), rdiff ||f(k+1)-f(k)||:0.085287 \n",
      "iter (65/200), rdiff ||f(k+1)-f(k)||:0.036120 \n",
      "iter (66/200), rdiff ||f(k+1)-f(k)||:0.059004 \n",
      "iter (67/200), rdiff ||f(k+1)-f(k)||:6.537454 \n",
      "iter (68/200), rdiff ||f(k+1)-f(k)||:45.208753 \n",
      "iter (69/200), rdiff ||f(k+1)-f(k)||:6.481215 \n",
      "iter (70/200), rdiff ||f(k+1)-f(k)||:1.817065 \n",
      "iter (71/200), rdiff ||f(k+1)-f(k)||:0.137290 \n",
      "iter (72/200), rdiff ||f(k+1)-f(k)||:0.040186 \n",
      "iter (73/200), rdiff ||f(k+1)-f(k)||:0.082884 \n",
      "iter (74/200), rdiff ||f(k+1)-f(k)||:12.596301 \n",
      "iter (75/200), rdiff ||f(k+1)-f(k)||:87.336165 \n",
      "iter (76/200), rdiff ||f(k+1)-f(k)||:12.507264 \n",
      "iter (77/200), rdiff ||f(k+1)-f(k)||:3.477971 \n",
      "iter (78/200), rdiff ||f(k+1)-f(k)||:0.233800 \n",
      "iter (79/200), rdiff ||f(k+1)-f(k)||:0.046820 \n",
      "iter (80/200), rdiff ||f(k+1)-f(k)||:0.126701 \n",
      "iter (81/200), rdiff ||f(k+1)-f(k)||:24.296861 \n",
      "iter (82/200), rdiff ||f(k+1)-f(k)||:168.669321 \n",
      "iter (83/200), rdiff ||f(k+1)-f(k)||:12.818061 \n",
      "iter (84/200), rdiff ||f(k+1)-f(k)||:8.722845 \n",
      "iter (85/200), rdiff ||f(k+1)-f(k)||:1.009027 \n",
      "iter (86/200), rdiff ||f(k+1)-f(k)||:0.173923 \n",
      "iter (87/200), rdiff ||f(k+1)-f(k)||:0.063364 \n",
      "iter (88/200), rdiff ||f(k+1)-f(k)||:0.049913 \n",
      "iter (89/200), rdiff ||f(k+1)-f(k)||:0.038392 \n",
      "iter (90/200), rdiff ||f(k+1)-f(k)||:0.045210 \n",
      "iter (91/200), rdiff ||f(k+1)-f(k)||:1.623253 \n",
      "iter (92/200), rdiff ||f(k+1)-f(k)||:10.795175 \n",
      "iter (93/200), rdiff ||f(k+1)-f(k)||:1.453102 \n",
      "iter (94/200), rdiff ||f(k+1)-f(k)||:0.481090 \n",
      "iter (95/200), rdiff ||f(k+1)-f(k)||:0.067711 \n",
      "iter (96/200), rdiff ||f(k+1)-f(k)||:0.040458 \n",
      "iter (97/200), rdiff ||f(k+1)-f(k)||:0.052849 \n",
      "iter (98/200), rdiff ||f(k+1)-f(k)||:2.978974 \n",
      "iter (99/200), rdiff ||f(k+1)-f(k)||:20.505326 \n",
      "iter (100/200), rdiff ||f(k+1)-f(k)||:2.994484 \n",
      "iter (101/200), rdiff ||f(k+1)-f(k)||:0.845667 \n",
      "iter (102/200), rdiff ||f(k+1)-f(k)||:0.087563 \n",
      "iter (103/200), rdiff ||f(k+1)-f(k)||:0.043977 \n",
      "iter (104/200), rdiff ||f(k+1)-f(k)||:0.065550 \n",
      "iter (105/200), rdiff ||f(k+1)-f(k)||:5.817814 \n",
      "iter (106/200), rdiff ||f(k+1)-f(k)||:40.148994 \n",
      "iter (107/200), rdiff ||f(k+1)-f(k)||:5.767911 \n",
      "iter (108/200), rdiff ||f(k+1)-f(k)||:1.625940 \n",
      "iter (109/200), rdiff ||f(k+1)-f(k)||:0.134128 \n",
      "iter (110/200), rdiff ||f(k+1)-f(k)||:0.047457 \n",
      "iter (111/200), rdiff ||f(k+1)-f(k)||:0.085829 \n",
      "iter (112/200), rdiff ||f(k+1)-f(k)||:11.217175 \n",
      "iter (113/200), rdiff ||f(k+1)-f(k)||:77.700295 \n",
      "iter (114/200), rdiff ||f(k+1)-f(k)||:11.137166 \n",
      "iter (115/200), rdiff ||f(k+1)-f(k)||:3.104568 \n",
      "iter (116/200), rdiff ||f(k+1)-f(k)||:0.218197 \n",
      "iter (117/200), rdiff ||f(k+1)-f(k)||:0.051393 \n",
      "iter (118/200), rdiff ||f(k+1)-f(k)||:0.122484 \n",
      "iter (119/200), rdiff ||f(k+1)-f(k)||:21.636118 \n",
      "iter (120/200), rdiff ||f(k+1)-f(k)||:150.140899 \n",
      "iter (121/200), rdiff ||f(k+1)-f(k)||:11.417946 \n",
      "iter (122/200), rdiff ||f(k+1)-f(k)||:7.772206 \n",
      "iter (123/200), rdiff ||f(k+1)-f(k)||:0.905648 \n",
      "iter (124/200), rdiff ||f(k+1)-f(k)||:0.161866 \n",
      "iter (125/200), rdiff ||f(k+1)-f(k)||:0.063044 \n",
      "iter (126/200), rdiff ||f(k+1)-f(k)||:0.050795 \n",
      "iter (12"
     ]
    }
   ],
   "source": [
    "#try varying the last arguments\n",
    "rtv = cl.recon(data, theta, phi, rot_center=rot_center, niter=200, titer=4,lambda0=1e-2, lambda1=150)"
   ]
  },
  {
   "cell_type": "code",
   "execution_count": 14,
   "id": "c82e3b16",
   "metadata": {},
   "outputs": [
    {
     "name": "stderr",
     "output_type": "stream",
     "text": [
      "7/200), rdiff ||f(k+1)-f(k)||:0.040278 \n",
      "iter (128/200), rdiff ||f(k+1)-f(k)||:0.046220 \n",
      "iter (129/200), rdiff ||f(k+1)-f(k)||:1.449012 \n",
      "iter (130/200), rdiff ||f(k+1)-f(k)||:9.602983 \n",
      "iter (131/200), rdiff ||f(k+1)-f(k)||:1.297143 \n",
      "iter (132/200), rdiff ||f(k+1)-f(k)||:0.432841 \n",
      "iter (133/200), rdiff ||f(k+1)-f(k)||:0.065115 \n",
      "iter (134/200), rdiff ||f(k+1)-f(k)||:0.040684 \n",
      "iter (135/200), rdiff ||f(k+1)-f(k)||:0.051452 \n",
      "iter (136/200), rdiff ||f(k+1)-f(k)||:2.651925 \n",
      "iter (137/200), rdiff ||f(k+1)-f(k)||:18.229277 \n",
      "iter (138/200), rdiff ||f(k+1)-f(k)||:2.665388 \n",
      "iter (139/200), rdiff ||f(k+1)-f(k)||:0.755355 \n",
      "iter (140/200), rdiff ||f(k+1)-f(k)||:0.081416 \n",
      "iter (141/200), rdiff ||f(k+1)-f(k)||:0.042548 \n",
      "iter (142/200), rdiff ||f(k+1)-f(k)||:0.061407 \n",
      "iter (143/200), rdiff ||f(k+1)-f(k)||:5.173296 \n",
      "iter (144/200), rdiff ||f(k+1)-f(k)||:35.684405 \n",
      "iter (145/200), rdiff ||f(k+1)-f(k)||:5.128752 \n",
      "iter (146/200), rdiff ||f(k+1)-f(k)||:1.447585 \n",
      "iter (147/200), rdiff ||f(k+1)-f(k)||:0.121692 \n",
      "iter (148/200), rdiff ||f(k+1)-f(k)||:0.044593 \n",
      "iter (149/200), rdiff ||f(k+1)-f(k)||:0.078336 \n",
      "iter (150/200), rdiff ||f(k+1)-f(k)||:9.970053 \n",
      "iter (151/200), rdiff ||f(k+1)-f(k)||:69.051492 \n",
      "iter (152/200), rdiff ||f(k+1)-f(k)||:9.898860 \n",
      "iter (153/200), rdiff ||f(k+1)-f(k)||:2.760529 \n",
      "iter (154/200), rdiff ||f(k+1)-f(k)||:0.195469 \n",
      "iter (155/200), rdiff ||f(k+1)-f(k)||:0.047203 \n",
      "iter (156/200), rdiff ||f(k+1)-f(k)||:0.109982 \n",
      "iter (157/200), rdiff ||f(k+1)-f(k)||:19.226630 \n",
      "iter (158/200), rdiff ||f(k+1)-f(k)||:133.416267 \n",
      "iter (159/200), rdiff ||f(k+1)-f(k)||:10.146978 \n",
      "iter (160/200), rdiff ||f(k+1)-f(k)||:6.907510 \n",
      "iter (161/200), rdiff ||f(k+1)-f(k)||:0.806039 \n",
      "iter (162/200), rdiff ||f(k+1)-f(k)||:0.145256 \n",
      "iter (163/200), rdiff ||f(k+1)-f(k)||:0.057570 \n",
      "iter (164/200), rdiff ||f(k+1)-f(k)||:0.046626 \n",
      "iter (165/200), rdiff ||f(k+1)-f(k)||:0.037218 \n",
      "iter (166/200), rdiff ||f(k+1)-f(k)||:0.042066 \n",
      "iter (167/200), rdiff ||f(k+1)-f(k)||:1.288041 \n",
      "iter (168/200), rdiff ||f(k+1)-f(k)||:8.533007 \n",
      "iter (169/200), rdiff ||f(k+1)-f(k)||:1.153028 \n",
      "iter (170/200), rdiff ||f(k+1)-f(k)||:0.385046 \n",
      "iter (171/200), rdiff ||f(k+1)-f(k)||:0.058274 \n",
      "iter (172/200), rdiff ||f(k+1)-f(k)||:0.036524 \n",
      "iter (173/200), rdiff ||f(k+1)-f(k)||:0.045630 \n",
      "iter (174/200), rdiff ||f(k+1)-f(k)||:2.355681 \n",
      "iter (175/200), rdiff ||f(k+1)-f(k)||:16.196122 \n",
      "iter (176/200), rdiff ||f(k+1)-f(k)||:2.367611 \n",
      "iter (177/200), rdiff ||f(k+1)-f(k)||:0.670534 \n",
      "iter (178/200), rdiff ||f(k+1)-f(k)||:0.071714 \n",
      "iter (179/200), rdiff ||f(k+1)-f(k)||:0.037151 \n",
      "iter (180/200), rdiff ||f(k+1)-f(k)||:0.053426 \n",
      "iter (181/200), rdiff ||f(k+1)-f(k)||:4.595198 \n",
      "iter (182/200), rdiff ||f(k+1)-f(k)||:31.706333 \n",
      "iter (183/200), rdiff ||f(k+1)-f(k)||:4.555600 \n",
      "iter (184/200), rdiff ||f(k+1)-f(k)||:1.284638 \n",
      "iter (185/200), rdiff ||f(k+1)-f(k)||:0.106476 \n",
      "iter (186/200), rdiff ||f(k+1)-f(k)||:0.037946 \n",
      "iter (187/200), rdiff ||f(k+1)-f(k)||:0.067436 \n",
      "iter (188/200), rdiff ||f(k+1)-f(k)||:8.856898 \n",
      "iter (189/200), rdiff ||f(k+1)-f(k)||:61.357676 \n",
      "iter (190/200), rdiff ||f(k+1)-f(k)||:8.793632 \n",
      "iter (191/200), rdiff ||f(k+1)-f(k)||:2.450386 \n",
      "iter (192/200), rdiff ||f(k+1)-f(k)||:0.171018 \n",
      "iter (193/200), rdiff ||f(k+1)-f(k)||:0.039247 \n",
      "iter (194/200), rdiff ||f(k+1)-f(k)||:0.094540 \n",
      "iter (195/200), rdiff ||f(k+1)-f(k)||:17.082184 \n",
      "iter (196/200), rdiff ||f(k+1)-f(k)||:118.557418 \n",
      "iter (197/200), rdiff ||f(k+1)-f(k)||:9.013686 \n",
      "iter (198/200), rdiff ||f(k+1)-f(k)||:6.135198 \n",
      "iter (199/200), rdiff ||f(k+1)-f(k)||:0.713268 \n"
     ]
    },
    {
     "data": {
      "application/vnd.jupyter.widget-view+json": {
       "model_id": "f8745343bc984695ad8a004cc52cb67f",
       "version_major": 2,
       "version_minor": 0
      },
      "text/plain": [
       "VBox(children=(Output(), BoundedIntText(value=0, description='Image Slice:', max=7)))"
      ]
     },
     "metadata": {},
     "output_type": "display_data"
    },
    {
     "data": {
      "text/plain": [
       "<ImageSliceViewer3D.ImageSliceViewer3D at 0x7fda74ceb820>"
      ]
     },
     "execution_count": 14,
     "metadata": {},
     "output_type": "execute_result"
    }
   ],
   "source": [
    "ImageSliceViewer3D(rtv[0])"
   ]
  },
  {
   "cell_type": "code",
   "execution_count": 15,
   "id": "c411bc58",
   "metadata": {},
   "outputs": [
    {
     "data": {
      "text/plain": [
       "(50, 8, 512, 512)"
      ]
     },
     "execution_count": 15,
     "metadata": {},
     "output_type": "execute_result"
    }
   ],
   "source": [
    "rtv.shape\n",
    "rtv_sum = np.sum(rtv, axis=1)\n",
    "rtv.shape"
   ]
  },
  {
   "cell_type": "code",
   "execution_count": 16,
   "id": "6864bedd",
   "metadata": {
    "scrolled": true
   },
   "outputs": [
    {
     "data": {
      "application/vnd.jupyter.widget-view+json": {
       "model_id": "1495a2afad7e419dae1b9a2571485efa",
       "version_major": 2,
       "version_minor": 0
      },
      "text/plain": [
       "VBox(children=(Output(), BoundedIntText(value=0, description='Image Slice:', max=49)))"
      ]
     },
     "metadata": {},
     "output_type": "display_data"
    },
    {
     "data": {
      "text/plain": [
       "<ImageSliceViewer3D.ImageSliceViewer3D at 0x7fda7cdd6190>"
      ]
     },
     "execution_count": 16,
     "metadata": {},
     "output_type": "execute_result"
    }
   ],
   "source": [
    "ImageSliceViewer3D(np.sum(rtv, axis=1))"
   ]
  },
  {
   "cell_type": "code",
   "execution_count": 17,
   "id": "0478d621",
   "metadata": {},
   "outputs": [
    {
     "data": {
      "text/plain": [
       "(50, 8, 512, 512)"
      ]
     },
     "execution_count": 17,
     "metadata": {},
     "output_type": "execute_result"
    }
   ],
   "source": [
    "rtv.shape\n"
   ]
  },
  {
   "cell_type": "code",
   "execution_count": 18,
   "id": "641f1bc6",
   "metadata": {},
   "outputs": [
    {
     "data": {
      "text/plain": [
       "(50, 240, 512)"
      ]
     },
     "execution_count": 18,
     "metadata": {},
     "output_type": "execute_result"
    }
   ],
   "source": [
    "nz, ntheta, n\n"
   ]
  },
  {
   "cell_type": "code",
   "execution_count": 20,
   "id": "a1eafa98",
   "metadata": {},
   "outputs": [
    {
     "data": {
      "image/png": "[encoded data removed]",
      "text/plain": [
       "<Figure size 432x288 with 1 Axes>"
      ]
     },
     "metadata": {
      "needs_background": "light"
     },
     "output_type": "display_data"
    }
   ],
   "source": [
    "\n",
    "slice = 25\n",
    "time = 2\n",
    "plt.imshow(rtv[slice,time])\n",
    "plt.show()"
   ]
  }
 ],
 "metadata": {
  "kernelspec": {
   "display_name": "py39",
   "language": "python",
   "name": "py39"
  },
  "language_info": {
   "codemirror_mode": {
    "name": "ipython",
    "version": 3
   },
   "file_extension": ".py",
   "mimetype": "text/x-python",
   "name": "python",
   "nbconvert_exporter": "python",
   "pygments_lexer": "ipython3",
   "version": "3.9.0"
  }
 },
 "nbformat": 4,
 "nbformat_minor": 5
}
