{
 "cells": [
  {
   "cell_type": "code",
   "execution_count": 22,
   "id": "c826131a",
   "metadata": {},
   "outputs": [
    {
     "data": {
      "text/plain": [
       "array([[[8., 8., 8., 8.],\n",
       "        [8., 8., 8., 8.],\n",
       "        [8., 8., 8., 8.],\n",
       "        [8., 8., 8., 8.]],\n",
       "\n",
       "       [[8., 8., 8., 8.],\n",
       "        [8., 8., 8., 8.],\n",
       "        [8., 8., 8., 8.],\n",
       "        [8., 8., 8., 8.]],\n",
       "\n",
       "       [[8., 8., 8., 8.],\n",
       "        [8., 8., 8., 8.],\n",
       "        [8., 8., 8., 8.],\n",
       "        [8., 8., 8., 8.]],\n",
       "\n",
       "       [[8., 8., 8., 8.],\n",
       "        [8., 8., 8., 8.],\n",
       "        [8., 8., 8., 8.],\n",
       "        [8., 8., 8., 8.]]])"
      ]
     },
     "execution_count": 22,
     "metadata": {},
     "output_type": "execute_result"
    }
   ],
   "source": [
    "import numpy as np\n",
    "A = np.ones((8,8,8))#np.random.randint(5, size=(8,8,8))\n",
    "\n",
    "\n",
    "def rebin(arr, new_shape):\n",
    "    shape = (new_shape[0], arr.shape[0] // new_shape[0],\n",
    "             new_shape[1], arr.shape[1] // new_shape[1],\n",
    "             new_shape[2], arr.shape[2] // new_shape[2])\n",
    "    return arr.reshape(shape).sum(-1).sum(1).sum(2)\n",
    "\n",
    "B = rebin(A, (4,4,4))\n",
    "\n",
    "B"
   ]
  },
  {
   "cell_type": "code",
   "execution_count": 8,
   "id": "28b1d067",
   "metadata": {},
   "outputs": [
    {
     "data": {
      "text/plain": [
       "2"
      ]
     },
     "execution_count": 8,
     "metadata": {},
     "output_type": "execute_result"
    }
   ],
   "source": [
    "6//3"
   ]
  },
  {
   "cell_type": "code",
   "execution_count": 23,
   "id": "681730d3",
   "metadata": {},
   "outputs": [],
   "source": [
    "A = np.random.randint(5, size=(4,4))"
   ]
  },
  {
   "cell_type": "code",
   "execution_count": 24,
   "id": "dbc09128",
   "metadata": {},
   "outputs": [
    {
     "data": {
      "text/plain": [
       "array([[0, 0, 3, 1],\n",
       "       [3, 1, 3, 4],\n",
       "       [3, 3, 2, 1],\n",
       "       [1, 4, 4, 4]])"
      ]
     },
     "execution_count": 24,
     "metadata": {},
     "output_type": "execute_result"
    }
   ],
   "source": [
    "A"
   ]
  },
  {
   "cell_type": "code",
   "execution_count": 32,
   "id": "a97e2664",
   "metadata": {},
   "outputs": [
    {
     "data": {
      "text/plain": [
       "array([[0, 3, 1, 0],\n",
       "       [1, 3, 4, 3],\n",
       "       [3, 2, 1, 3],\n",
       "       [4, 4, 4, 1]])"
      ]
     },
     "execution_count": 32,
     "metadata": {},
     "output_type": "execute_result"
    }
   ],
   "source": [
    "np.roll(A, -1, axis=1)"
   ]
  },
  {
   "cell_type": "code",
   "execution_count": null,
   "id": "a510b363",
   "metadata": {},
   "outputs": [],
   "source": []
  }
 ],
 "metadata": {
  "kernelspec": {
   "display_name": "odl-py37",
   "language": "python",
   "name": "odl-py37"
  },
  "language_info": {
   "codemirror_mode": {
    "name": "ipython",
    "version": 3
   },
   "file_extension": ".py",
   "mimetype": "text/x-python",
   "name": "python",
   "nbconvert_exporter": "python",
   "pygments_lexer": "ipython3",
   "version": "3.7.11"
  }
 },
 "nbformat": 4,
 "nbformat_minor": 5
}
