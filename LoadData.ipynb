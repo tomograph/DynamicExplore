{
 "cells": [
  {
   "cell_type": "code",
   "execution_count": 1,
   "id": "fc9938a2",
   "metadata": {},
   "outputs": [
    {
     "ename": "OSError",
     "evalue": "/home/mette/anaconda3/envs/DynamicTomography/lib/python3.8/site-packages/torch/lib/../../../../libcublas.so.11: symbol free_gemm_select version libcublasLt.so.11 not defined in file libcublasLt.so.11 with link time reference",
     "output_type": "error",
     "traceback": [
      "\u001b[0;31m---------------------------------------------------------------------------\u001b[0m",
      "\u001b[0;31mOSError\u001b[0m                                   Traceback (most recent call last)",
      "\u001b[0;32m<ipython-input-1-3bec352ebc1e>\u001b[0m in \u001b[0;36m<module>\u001b[0;34m\u001b[0m\n\u001b[1;32m      1\u001b[0m \u001b[0;32mimport\u001b[0m \u001b[0mh5py\u001b[0m\u001b[0;34m\u001b[0m\u001b[0;34m\u001b[0m\u001b[0m\n\u001b[1;32m      2\u001b[0m \u001b[0;32mimport\u001b[0m \u001b[0mnumpy\u001b[0m \u001b[0;32mas\u001b[0m \u001b[0mnp\u001b[0m\u001b[0;34m\u001b[0m\u001b[0;34m\u001b[0m\u001b[0m\n\u001b[0;32m----> 3\u001b[0;31m \u001b[0;32mfrom\u001b[0m \u001b[0minteractive_utils\u001b[0m \u001b[0;32mimport\u001b[0m \u001b[0;34m*\u001b[0m\u001b[0;34m\u001b[0m\u001b[0;34m\u001b[0m\u001b[0m\n\u001b[0m\u001b[1;32m      4\u001b[0m \u001b[0;32mimport\u001b[0m \u001b[0mtomopy\u001b[0m\u001b[0;34m\u001b[0m\u001b[0;34m\u001b[0m\u001b[0m\n\u001b[1;32m      5\u001b[0m \u001b[0;32mimport\u001b[0m \u001b[0mlogging\u001b[0m\u001b[0;34m\u001b[0m\u001b[0;34m\u001b[0m\u001b[0m\n",
      "\u001b[0;32m~/github/DynamicExplore/interactive_utils.py\u001b[0m in \u001b[0;36m<module>\u001b[0;34m\u001b[0m\n\u001b[1;32m      1\u001b[0m \u001b[0;32mimport\u001b[0m \u001b[0mmath\u001b[0m\u001b[0;34m\u001b[0m\u001b[0;34m\u001b[0m\u001b[0m\n\u001b[0;32m----> 2\u001b[0;31m \u001b[0;32mimport\u001b[0m \u001b[0mtorch\u001b[0m\u001b[0;34m\u001b[0m\u001b[0;34m\u001b[0m\u001b[0m\n\u001b[0m\u001b[1;32m      3\u001b[0m \u001b[0;32mimport\u001b[0m \u001b[0mmatplotlib\u001b[0m\u001b[0;34m.\u001b[0m\u001b[0mpyplot\u001b[0m \u001b[0;32mas\u001b[0m \u001b[0mplt\u001b[0m\u001b[0;34m\u001b[0m\u001b[0;34m\u001b[0m\u001b[0m\n\u001b[1;32m      4\u001b[0m \u001b[0;32mimport\u001b[0m \u001b[0mnumpy\u001b[0m \u001b[0;32mas\u001b[0m \u001b[0mnp\u001b[0m\u001b[0;34m\u001b[0m\u001b[0;34m\u001b[0m\u001b[0m\n\u001b[1;32m      5\u001b[0m \u001b[0;32mimport\u001b[0m \u001b[0mipywidgets\u001b[0m \u001b[0;32mas\u001b[0m \u001b[0mwidgets\u001b[0m\u001b[0;34m\u001b[0m\u001b[0;34m\u001b[0m\u001b[0m\n",
      "\u001b[0;32m~/anaconda3/envs/DynamicTomography/lib/python3.8/site-packages/torch/__init__.py\u001b[0m in \u001b[0;36m<module>\u001b[0;34m\u001b[0m\n\u001b[1;32m    187\u001b[0m     \u001b[0;31m# See Note [Global dependencies]\u001b[0m\u001b[0;34m\u001b[0m\u001b[0;34m\u001b[0m\u001b[0;34m\u001b[0m\u001b[0m\n\u001b[1;32m    188\u001b[0m     \u001b[0;32mif\u001b[0m \u001b[0mUSE_GLOBAL_DEPS\u001b[0m\u001b[0;34m:\u001b[0m\u001b[0;34m\u001b[0m\u001b[0;34m\u001b[0m\u001b[0m\n\u001b[0;32m--> 189\u001b[0;31m         \u001b[0m_load_global_deps\u001b[0m\u001b[0;34m(\u001b[0m\u001b[0;34m)\u001b[0m\u001b[0;34m\u001b[0m\u001b[0;34m\u001b[0m\u001b[0m\n\u001b[0m\u001b[1;32m    190\u001b[0m     \u001b[0;32mfrom\u001b[0m \u001b[0mtorch\u001b[0m\u001b[0;34m.\u001b[0m\u001b[0m_C\u001b[0m \u001b[0;32mimport\u001b[0m \u001b[0;34m*\u001b[0m\u001b[0;34m\u001b[0m\u001b[0;34m\u001b[0m\u001b[0m\n\u001b[1;32m    191\u001b[0m \u001b[0;34m\u001b[0m\u001b[0m\n",
      "\u001b[0;32m~/anaconda3/envs/DynamicTomography/lib/python3.8/site-packages/torch/__init__.py\u001b[0m in \u001b[0;36m_load_global_deps\u001b[0;34m()\u001b[0m\n\u001b[1;32m    140\u001b[0m     \u001b[0mlib_path\u001b[0m \u001b[0;34m=\u001b[0m \u001b[0mos\u001b[0m\u001b[0;34m.\u001b[0m\u001b[0mpath\u001b[0m\u001b[0;34m.\u001b[0m\u001b[0mjoin\u001b[0m\u001b[0;34m(\u001b[0m\u001b[0mos\u001b[0m\u001b[0;34m.\u001b[0m\u001b[0mpath\u001b[0m\u001b[0;34m.\u001b[0m\u001b[0mdirname\u001b[0m\u001b[0;34m(\u001b[0m\u001b[0mhere\u001b[0m\u001b[0;34m)\u001b[0m\u001b[0;34m,\u001b[0m \u001b[0;34m'lib'\u001b[0m\u001b[0;34m,\u001b[0m \u001b[0mlib_name\u001b[0m\u001b[0;34m)\u001b[0m\u001b[0;34m\u001b[0m\u001b[0;34m\u001b[0m\u001b[0m\n\u001b[1;32m    141\u001b[0m \u001b[0;34m\u001b[0m\u001b[0m\n\u001b[0;32m--> 142\u001b[0;31m     \u001b[0mctypes\u001b[0m\u001b[0;34m.\u001b[0m\u001b[0mCDLL\u001b[0m\u001b[0;34m(\u001b[0m\u001b[0mlib_path\u001b[0m\u001b[0;34m,\u001b[0m \u001b[0mmode\u001b[0m\u001b[0;34m=\u001b[0m\u001b[0mctypes\u001b[0m\u001b[0;34m.\u001b[0m\u001b[0mRTLD_GLOBAL\u001b[0m\u001b[0;34m)\u001b[0m\u001b[0;34m\u001b[0m\u001b[0;34m\u001b[0m\u001b[0m\n\u001b[0m\u001b[1;32m    143\u001b[0m \u001b[0;34m\u001b[0m\u001b[0m\n\u001b[1;32m    144\u001b[0m \u001b[0;34m\u001b[0m\u001b[0m\n",
      "\u001b[0;32m~/anaconda3/envs/DynamicTomography/lib/python3.8/ctypes/__init__.py\u001b[0m in \u001b[0;36m__init__\u001b[0;34m(self, name, mode, handle, use_errno, use_last_error, winmode)\u001b[0m\n\u001b[1;32m    379\u001b[0m \u001b[0;34m\u001b[0m\u001b[0m\n\u001b[1;32m    380\u001b[0m         \u001b[0;32mif\u001b[0m \u001b[0mhandle\u001b[0m \u001b[0;32mis\u001b[0m \u001b[0;32mNone\u001b[0m\u001b[0;34m:\u001b[0m\u001b[0;34m\u001b[0m\u001b[0;34m\u001b[0m\u001b[0m\n\u001b[0;32m--> 381\u001b[0;31m             \u001b[0mself\u001b[0m\u001b[0;34m.\u001b[0m\u001b[0m_handle\u001b[0m \u001b[0;34m=\u001b[0m \u001b[0m_dlopen\u001b[0m\u001b[0;34m(\u001b[0m\u001b[0mself\u001b[0m\u001b[0;34m.\u001b[0m\u001b[0m_name\u001b[0m\u001b[0;34m,\u001b[0m \u001b[0mmode\u001b[0m\u001b[0;34m)\u001b[0m\u001b[0;34m\u001b[0m\u001b[0;34m\u001b[0m\u001b[0m\n\u001b[0m\u001b[1;32m    382\u001b[0m         \u001b[0;32melse\u001b[0m\u001b[0;34m:\u001b[0m\u001b[0;34m\u001b[0m\u001b[0;34m\u001b[0m\u001b[0m\n\u001b[1;32m    383\u001b[0m             \u001b[0mself\u001b[0m\u001b[0;34m.\u001b[0m\u001b[0m_handle\u001b[0m \u001b[0;34m=\u001b[0m \u001b[0mhandle\u001b[0m\u001b[0;34m\u001b[0m\u001b[0;34m\u001b[0m\u001b[0m\n",
      "\u001b[0;31mOSError\u001b[0m: /home/mette/anaconda3/envs/DynamicTomography/lib/python3.8/site-packages/torch/lib/../../../../libcublas.so.11: symbol free_gemm_select version libcublasLt.so.11 not defined in file libcublasLt.so.11 with link time reference"
     ]
    }
   ],
   "source": [
    "import h5py\n",
    "import numpy as np\n",
    "from interactive_utils import *\n",
    "import tomopy\n",
    "import logging\n",
    "logging.basicConfig(level=logging.INFO)\n",
    "import matplotlib\n",
    "matplotlib.rcParams['figure.figsize'] = (10, 10)"
   ]
  },
  {
   "cell_type": "markdown",
   "id": "15bc75e0",
   "metadata": {},
   "source": [
    "First we load the data"
   ]
  },
  {
   "cell_type": "code",
   "execution_count": null,
   "id": "5da53e46",
   "metadata": {},
   "outputs": [],
   "source": [
    "filename = \"data/34_Aupart-wtflat_PHpos_/34_Aupart-wtflat_PHpos_001.h5\"\n",
    "#filename = \"data/39_Human-1-nostain_area2_PHpos_/39_Human-1-nostain_area2_PHpos_.h5\"\n",
    "data_key = \"exchange/data/\"\n",
    "projs = np.zeros((600,1110,1120), dtype='uint16')\n",
    "#projs = np.zeros((1500,1110,1120), dtype='uint16')\n",
    "with h5py.File(filename, \"r\") as f:\n",
    "    # Get the data\n",
    "    data_ = f[data_key]\n",
    "    data_.read_direct(projs)"
   ]
  },
  {
   "cell_type": "code",
   "execution_count": null,
   "id": "bbeeb74c",
   "metadata": {},
   "outputs": [],
   "source": [
    "print(f'(Loaded data of shape {projs.shape}:')\n",
    "ImageSliceViewer3D(projs)"
   ]
  },
  {
   "cell_type": "markdown",
   "id": "e0929407",
   "metadata": {},
   "source": [
    "Then we load flat fields and dark fields - can these just be loaded from any dataset??:"
   ]
  },
  {
   "cell_type": "code",
   "execution_count": null,
   "id": "35ce6018",
   "metadata": {},
   "outputs": [],
   "source": [
    "filename = \"data/39_Human-1-nostain_area2_PHpos_/39_Human-1-nostain_area2_PHpos_.h5\"\n",
    "    \n",
    "data_key = 'exchange/data_white'\n",
    "flats = np.zeros((100,1110,1120), dtype='uint16')\n",
    "\n",
    "with h5py.File(filename, \"r\") as f:\n",
    "    # Get the data\n",
    "    data_ = f[data_key]\n",
    "    data_.read_direct(flats)"
   ]
  },
  {
   "cell_type": "code",
   "execution_count": null,
   "id": "c8ba5c71",
   "metadata": {},
   "outputs": [],
   "source": [
    "print(f'(Loaded data of shape {flats.shape}:')\n",
    "np.count_nonzero(flats)"
   ]
  },
  {
   "cell_type": "markdown",
   "id": "ef931d08",
   "metadata": {},
   "source": [
    "Then we load dark fields"
   ]
  },
  {
   "cell_type": "code",
   "execution_count": null,
   "id": "e6f27868",
   "metadata": {},
   "outputs": [],
   "source": [
    "\n",
    "data_key = 'exchange/data_dark'\n",
    "darks = np.zeros((30,1110,1120), dtype='uint16')\n",
    "\n",
    "with h5py.File(filename, \"r\") as f:\n",
    "    # Get the data\n",
    "    data_ = f[data_key]\n",
    "    data_.read_direct(darks)"
   ]
  },
  {
   "cell_type": "code",
   "execution_count": null,
   "id": "7866ce0d",
   "metadata": {},
   "outputs": [],
   "source": [
    "print(f'(Loaded data of shape {darks.shape}:')\n",
    "np.count_nonzero(darks)"
   ]
  },
  {
   "cell_type": "markdown",
   "id": "347e2c4f",
   "metadata": {},
   "source": [
    "Preprocess"
   ]
  },
  {
   "cell_type": "code",
   "execution_count": null,
   "id": "ff15e6a0",
   "metadata": {},
   "outputs": [],
   "source": [
    "def preprocess(dark, flat, proj, rot_center, padvalue=0):\n",
    "    # Flat-field correction of raw data.\n",
    "    thetas, height, width = proj.shape\n",
    "    proj = tomopy.normalize(proj, flat, dark)\n",
    "\n",
    "    theta = np.linspace(0.0, 180,num=thetas)*np.pi/180\n",
    "\n",
    "    proj = tomopy.minus_log(proj)\n",
    "    \n",
    "    #remove any \"bad\" values\n",
    "    proj = tomopy.remove_nan(proj, val=0.0)\n",
    "    proj = tomopy.remove_neg(proj, val=0.00)\n",
    "    proj[np.where(proj == np.inf)] = 0.00\n",
    "\n",
    "    # Reconstruct object.\n",
    "    proj = np.pad(proj, ((0, 0), (0, 0), (padvalue, padvalue)), mode='edge')\n",
    "    \n",
    "    return proj, theta\n"
   ]
  },
  {
   "cell_type": "code",
   "execution_count": null,
   "id": "ef6fe963",
   "metadata": {},
   "outputs": [],
   "source": [
    "pad, rot_center = 0,560\n",
    "proj, theta = preprocess(darks, flats, projs, rot_center, padvalue=pad)"
   ]
  },
  {
   "cell_type": "code",
   "execution_count": null,
   "id": "c0439059",
   "metadata": {},
   "outputs": [],
   "source": [
    "plt.imshow(np.sum(proj, axis=1), cmap=\"gray\")\n",
    "plt.title(\"sinogram\")\n",
    "plt.show()"
   ]
  },
  {
   "cell_type": "code",
   "execution_count": null,
   "id": "f3540a12",
   "metadata": {},
   "outputs": [],
   "source": [
    "plt.imshow(np.sum(proj, axis=2), cmap=\"gray\")\n",
    "plt.title(\"sinogram\")\n",
    "plt.show()"
   ]
  },
  {
   "cell_type": "code",
   "execution_count": null,
   "id": "94872793",
   "metadata": {
    "scrolled": true
   },
   "outputs": [],
   "source": [
    "ImageSliceViewer3D(np.transpose(proj, (1,2,0)))#Look at slice 439"
   ]
  },
  {
   "cell_type": "code",
   "execution_count": null,
   "id": "9219098f",
   "metadata": {},
   "outputs": [],
   "source": [
    "recon = tomopy.recon(np.expand_dims(proj[439,:,:], axis=1), theta, center=rot_center, algorithm='gridrec', ncore=32)\n",
    "plt.imshow(recon[0, :, :])\n",
    "ImageSliceViewer3D(recon)"
   ]
  },
  {
   "cell_type": "code",
   "execution_count": null,
   "id": "ee36f51e",
   "metadata": {},
   "outputs": [],
   "source": [
    "np.save(\"projections.npy\", proj, allow_pickle=False, fix_imports = True)"
   ]
  },
  {
   "cell_type": "code",
   "execution_count": null,
   "id": "8aeffbb4",
   "metadata": {},
   "outputs": [],
   "source": [
    "np.save(\"theta.npy\", theta, allow_pickle=False, fix_imports = True)"
   ]
  },
  {
   "cell_type": "code",
   "execution_count": null,
   "id": "3d1cce10",
   "metadata": {},
   "outputs": [],
   "source": []
  }
 ],
 "metadata": {
  "kernelspec": {
   "display_name": "DynamicTomography",
   "language": "python",
   "name": "dynamictomography"
  },
  "language_info": {
   "codemirror_mode": {
    "name": "ipython",
    "version": 3
   },
   "file_extension": ".py",
   "mimetype": "text/x-python",
   "name": "python",
   "nbconvert_exporter": "python",
   "pygments_lexer": "ipython3",
   "version": "3.8.5"
  }
 },
 "nbformat": 4,
 "nbformat_minor": 5
}
