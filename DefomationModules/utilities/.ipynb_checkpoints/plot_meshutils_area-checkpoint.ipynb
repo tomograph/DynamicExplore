{
 "cells": [
  {
   "cell_type": "code",
   "execution_count": null,
   "metadata": {
    "collapsed": false
   },
   "outputs": [],
   "source": [
    "%matplotlib inline"
   ]
  },
  {
   "cell_type": "markdown",
   "metadata": {},
   "source": [
    "\n# Mesh utilities area sampling\n\n"
   ]
  },
  {
   "cell_type": "markdown",
   "metadata": {},
   "source": [
    "Import relevant modules.\n\n\n"
   ]
  },
  {
   "cell_type": "code",
   "execution_count": null,
   "metadata": {
    "collapsed": false
   },
   "outputs": [],
   "source": [
    "import sys\nsys.path.append(\"../\")\n\nimport torch\nimport matplotlib.pyplot as plt\n\nimport imodal"
   ]
  },
  {
   "cell_type": "markdown",
   "metadata": {},
   "source": [
    "Define an AABB region of the plane on which the demonstration will take place.\n\n\n"
   ]
  },
  {
   "cell_type": "code",
   "execution_count": null,
   "metadata": {
    "collapsed": false
   },
   "outputs": [],
   "source": [
    "aabb = imodal.Utilities.AABB(-1., 1., -1., 1.)\naabb_draw = imodal.Utilities.AABB(-1.5, 1.5, -1.5, 1.5)"
   ]
  },
  {
   "cell_type": "markdown",
   "metadata": {},
   "source": [
    "Demonstration of area_side().\n\n\n"
   ]
  },
  {
   "cell_type": "code",
   "execution_count": null,
   "metadata": {
    "collapsed": false
   },
   "outputs": [],
   "source": [
    "p0 = torch.tensor([0., -1.])\np1 = torch.tensor([0.5, 1.])\npoints_left = imodal.Utilities.fill_area_uniform_density(imodal.Utilities.area_side, aabb, 50., p0=p0, p1=p1, intersect=True, side=1)\npoints_right = imodal.Utilities.fill_area_uniform_density(imodal.Utilities.area_side, aabb, 50., p0=p0, p1=p1, intersect=True, side=-1)\n\nax = plt.subplot()\nimodal.Utilities.plot_aabb(ax, aabb, color='black')\nplt.plot((p0[0].item(), p1[0].item()), (p0[1].item(), p1[1].item()), color='black')\nplt.axis(aabb_draw.totuple())\nplt.plot(points_left.numpy()[:, 0], points_left.numpy()[:, 1], '.')\nplt.plot(points_right.numpy()[:, 0], points_right.numpy()[:, 1], 'x')\nplt.show()"
   ]
  },
  {
   "cell_type": "markdown",
   "metadata": {},
   "source": [
    "Demonstration of extract_convex_hull() and area_convex_shape().\n\n\n"
   ]
  },
  {
   "cell_type": "code",
   "execution_count": null,
   "metadata": {
    "collapsed": false
   },
   "outputs": [],
   "source": [
    "random_points = aabb.fill_random(10)\nconvex_hull = imodal.Utilities.extract_convex_hull(random_points)\n\npoints_inside = imodal.Utilities.fill_area_uniform_density(imodal.Utilities.area_convex_shape, aabb, 40., shape=convex_hull, side=-1)\n\n# With lambda expressions it is easy to invert selection.\npoints_outside = imodal.Utilities.fill_area_uniform_density(lambda x, **kwargs: ~imodal.Utilities.area_convex_shape(x, **kwargs), aabb, 40., shape=convex_hull, side=-1)\n\nax = plt.subplot()\nimodal.Utilities.plot_aabb(ax, aabb, color='black')\nplt.axis(aabb_draw.totuple())\nimodal.Utilities.plot_polyline(ax, convex_hull, close=True, fill=False)\nplt.plot(random_points.numpy()[:, 0], random_points.numpy()[:, 1], 'o')\nplt.plot(points_inside.numpy()[:, 0], points_inside.numpy()[:, 1], 'x')\nplt.plot(points_outside.numpy()[:, 0], points_outside.numpy()[:, 1], '.')\nplt.show()"
   ]
  },
  {
   "cell_type": "markdown",
   "metadata": {},
   "source": [
    "Demonstration of area_shape() - for any kinds of polygons on the plan.\n\n\n"
   ]
  },
  {
   "cell_type": "code",
   "execution_count": null,
   "metadata": {
    "collapsed": false
   },
   "outputs": [],
   "source": [
    "N = 5\nshape = aabb.fill_random(N)\nshape = imodal.Utilities.close_shape(shape)\n\npoints_inside = imodal.Utilities.fill_area_uniform_density(imodal.Utilities.area_shape, aabb, 80., shape=shape)\n\npoints_outside = imodal.Utilities.fill_area_uniform_density(lambda x, **kwargs: ~imodal.Utilities.area_shape(x, **kwargs), aabb, 80., shape=shape)\n\nax = plt.subplot()\nimodal.Utilities.plot_aabb(ax, aabb, color='black')\nplt.axis(aabb_draw.totuple())\nimodal.Utilities.plot_polyline(ax, shape, close=False, fill=False)\nplt.plot(points_inside.numpy()[:, 0], points_inside.numpy()[:, 1], 'x')\nplt.plot(points_outside.numpy()[:, 0], points_outside.numpy()[:, 1], '.')\nplt.show()"
   ]
  },
  {
   "cell_type": "markdown",
   "metadata": {},
   "source": [
    "Demonstration of area_polyline_outline() filled by random points using rejection sampling.\n\n\n"
   ]
  },
  {
   "cell_type": "code",
   "execution_count": null,
   "metadata": {
    "collapsed": false
   },
   "outputs": [],
   "source": [
    "N = 5\npolyline = aabb.fill_random(N)\n\npoints_inside = imodal.Utilities.fill_area_random_density(imodal.Utilities.area_polyline_outline, aabb, 40., polyline=polyline, width=0.1)\n\nax = plt.subplot()\nimodal.Utilities.plot_aabb(ax, aabb, color='black')\nplt.axis(aabb_draw.totuple())\nimodal.Utilities.plot_polyline(ax, polyline, close=False, fill=False)\nplt.plot(points_inside.numpy()[:, 0], points_inside.numpy()[:, 1], 'x')\nplt.show()"
   ]
  },
  {
   "cell_type": "markdown",
   "metadata": {},
   "source": [
    "Demonstration of a combinaison of area_disc().\n\n\n"
   ]
  },
  {
   "cell_type": "code",
   "execution_count": null,
   "metadata": {
    "collapsed": false
   },
   "outputs": [],
   "source": [
    "N = 4\ncenters = aabb.fill_random(N)\n\narea_discs = lambda x, **kwargs: sum([imodal.Utilities.area_disc(x, radius=kwargs['radius'], center=center) for center in kwargs['centers']]) >= 1\n\npoints_inside = imodal.Utilities.fill_area_uniform_density(area_discs, aabb, 80., centers=centers, radius=0.4)\npoints_outside = imodal.Utilities.fill_area_uniform_density(lambda x, **kwargs: ~area_discs(x, **kwargs), aabb, 80., centers=centers, radius=0.4)\n\nax = plt.subplot()\nimodal.Utilities.plot_aabb(ax, aabb, color='black')\nplt.axis(aabb_draw.totuple())\nplt.plot(centers.numpy()[:, 0], centers.numpy()[:, 1], 'o')\nplt.plot(points_inside.numpy()[:, 0], points_inside.numpy()[:, 1], 'x')\nplt.plot(points_outside.numpy()[:, 0], points_outside.numpy()[:, 1], '.')\nplt.show()"
   ]
  }
 ],
 "metadata": {
  "kernelspec": {
   "display_name": "Python 3",
   "language": "python",
   "name": "python3"
  },
  "language_info": {
   "codemirror_mode": {
    "name": "ipython",
    "version": 3
   },
   "file_extension": ".py",
   "mimetype": "text/x-python",
   "name": "python",
   "nbconvert_exporter": "python",
   "pygments_lexer": "ipython3",
   "version": "3.6.7"
  }
 },
 "nbformat": 4,
 "nbformat_minor": 0
}
