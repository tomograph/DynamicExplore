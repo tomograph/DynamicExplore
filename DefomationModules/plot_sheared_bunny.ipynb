{
 "cells": [
  {
   "cell_type": "code",
   "execution_count": 1,
   "metadata": {},
   "outputs": [],
   "source": [
    "%matplotlib inline\n",
    "import sys\n",
    "sys.path.append(\"/home/mette/github/implicitmodules\")"
   ]
  },
  {
   "cell_type": "markdown",
   "metadata": {},
   "source": [
    "\n",
    "# Sheared bunny\n",
    "\n",
    "3D meshes registration using implicit modules of order 1. Normal frames and growth factor are optimized.\n",
    "\n"
   ]
  },
  {
   "cell_type": "markdown",
   "metadata": {},
   "source": [
    "Import relevant Python modules.\n",
    "\n",
    "\n"
   ]
  },
  {
   "cell_type": "code",
   "execution_count": 2,
   "metadata": {},
   "outputs": [],
   "source": [
    "import sys\n",
    "sys.path.append(\"/home/mette/github/pytorch\")\n",
    "\n",
    "import torch\n",
    "import meshio\n",
    "\n",
    "\n",
    "import imodal\n",
    "\n",
    "torch.set_default_dtype(torch.float64)\n",
    "imodal.Utilities.set_compute_backend('keops')\n",
    "device = 'cuda:0'\n",
    "#device = 'cpu'"
   ]
  },
  {
   "cell_type": "markdown",
   "metadata": {},
   "source": [
    "Load source and target data.\n",
    "\n",
    "\n"
   ]
  },
  {
   "cell_type": "code",
   "execution_count": 3,
   "metadata": {},
   "outputs": [],
   "source": [
    "data_folder = \"/home/mette/github/implicitmodules/data/\"\n",
    "source_mesh = meshio.read(data_folder+\"bunny.ply\")\n",
    "target_mesh = meshio.read(data_folder+\"bunny_shear.ply\")\n",
    "\n",
    "source_points = torch.tensor(source_mesh.points, dtype=torch.get_default_dtype())\n",
    "target_points = torch.tensor(target_mesh.points, dtype=torch.get_default_dtype())\n",
    "source_triangles = torch.tensor(source_mesh.cells_dict['triangle'], dtype=torch.long)\n",
    "target_triangles = torch.tensor(target_mesh.cells_dict['triangle'], dtype=torch.long)"
   ]
  },
  {
   "cell_type": "markdown",
   "metadata": {},
   "source": [
    "Rescaling source and target.\n",
    "\n",
    "\n"
   ]
  },
  {
   "cell_type": "code",
   "execution_count": 4,
   "metadata": {},
   "outputs": [],
   "source": [
    "scale_factor = 100.\n",
    "source_points = scale_factor*(source_points - torch.mean(source_points, dim=0))\n",
    "target_points = scale_factor*(target_points - torch.mean(target_points, dim=0))"
   ]
  },
  {
   "cell_type": "markdown",
   "metadata": {},
   "source": [
    "Generation of implicit module of order 1: points positions, initial growth\n",
    "factor and normal frames.\n",
    "\n",
    "\n"
   ]
  },
  {
   "cell_type": "code",
   "execution_count": 5,
   "metadata": {},
   "outputs": [],
   "source": [
    "# Defining an AABB around the source\n",
    "aabb_source = imodal.Utilities.AABB.build_from_points(1.8*source_points)\n",
    "\n",
    "# Generation of growth points\n",
    "implicit1_density = 0.1\n",
    "implicit1_points = imodal.Utilities.fill_area_uniform_density(imodal.Utilities.area_convex_hull, aabb_source, implicit1_density, scatter=1.8*source_points)\n",
    "\n",
    "# Placeholders for growth factor and normal frames\n",
    "implicit1_r = torch.empty(implicit1_points.shape[0], 3, 3)\n",
    "implicit1_c = torch.empty(implicit1_points.shape[0], 3, 1)\n",
    "\n",
    "# Initial growth factor constants\n",
    "growth_constants = torch.tensor([[[1.], [1.], [1.]]], requires_grad=True, device=device)\n",
    "\n",
    "# Initial normal frames angles. Normal frames are rotation matrices and thus defined by 3 angles.\n",
    "angles = torch.zeros(implicit1_points.shape[0], 3, requires_grad=True, device=device)"
   ]
  },
  {
   "cell_type": "markdown",
   "metadata": {},
   "source": [
    "Create the deformation model with a combination of 3 modules : implicit module\n",
    "of order 1 (growth model), implicit module of order 0 (small corrections), global translation\n",
    "and a large scale rotation.\n",
    "\n",
    "\n"
   ]
  },
  {
   "cell_type": "markdown",
   "metadata": {},
   "source": [
    "Create and initialize the global translation module.\n",
    "\n",
    "\n"
   ]
  },
  {
   "cell_type": "code",
   "execution_count": 6,
   "metadata": {},
   "outputs": [],
   "source": [
    "global_translation = imodal.DeformationModules.GlobalTranslation(3, coeff=10.)"
   ]
  },
  {
   "cell_type": "markdown",
   "metadata": {},
   "source": [
    "Create and initialize the growth module.\n",
    "\n",
    "\n"
   ]
  },
  {
   "cell_type": "code",
   "execution_count": 7,
   "metadata": {},
   "outputs": [
    {
     "name": "stdout",
     "output_type": "stream",
     "text": [
      "217 points for the implicit module of order 1.\n"
     ]
    }
   ],
   "source": [
    "sigma1 = 2.5/implicit1_density**(1/3)\n",
    "\n",
    "implicit1 = imodal.DeformationModules.ImplicitModule1(3, implicit1_points.shape[0], sigma1, implicit1_c, nu=1000., gd=(implicit1_points, implicit1_r), coeff=0.001)\n",
    "\n",
    "print(\"{} points for the implicit module of order 1.\".format(implicit1_points.shape[0]))"
   ]
  },
  {
   "cell_type": "markdown",
   "metadata": {},
   "source": [
    "Create and initialize the local translations module.\n",
    "\n",
    "\n"
   ]
  },
  {
   "cell_type": "code",
   "execution_count": 8,
   "metadata": {},
   "outputs": [
    {
     "name": "stdout",
     "output_type": "stream",
     "text": [
      "3.1748021039363987\n",
      "884 points for the implicit module of order 0.\n"
     ]
    }
   ],
   "source": [
    "implicit0_density = 0.25\n",
    "sigma0 = 2./implicit0_density**(1/3)\n",
    "\n",
    "print(sigma0)\n",
    "\n",
    "implicit0_points = imodal.Utilities.fill_area_uniform_density(imodal.Utilities.area_convex_hull, aabb_source, implicit0_density, scatter=1.8*source_points)\n",
    "\n",
    "implicit0 = imodal.DeformationModules.ImplicitModule0(3, implicit0_points.shape[0], sigma0, nu=1., gd=implicit0_points, coeff=1000.)\n",
    "\n",
    "print(\"{} points for the implicit module of order 0.\".format(implicit0_points.shape[0]))"
   ]
  },
  {
   "cell_type": "markdown",
   "metadata": {},
   "source": [
    "Create and initialize the local large scale rotation.\n",
    "\n",
    "\n"
   ]
  },
  {
   "cell_type": "code",
   "execution_count": 9,
   "metadata": {},
   "outputs": [],
   "source": [
    "rotation = imodal.DeformationModules.LocalRotation(3, 30., gd=torch.tensor([[0., 0., 0.], [0., 0., 1.]], device=device, requires_grad=True), backend='torch', coeff=10.)"
   ]
  },
  {
   "cell_type": "markdown",
   "metadata": {},
   "source": [
    "Define our growth factor model.\n",
    "\n",
    "\n"
   ]
  },
  {
   "cell_type": "code",
   "execution_count": 10,
   "metadata": {},
   "outputs": [],
   "source": [
    "# Function that computes normal frames from angles.\n",
    "def compute_basis(angles):\n",
    "    rot_x = imodal.Utilities.rot3d_x_vec(angles[:, 0])\n",
    "    rot_y = imodal.Utilities.rot3d_y_vec(angles[:, 1])\n",
    "    rot_z = imodal.Utilities.rot3d_z_vec(angles[:, 2])\n",
    "    return torch.einsum('nik, nkl, nlj->nij', rot_z, rot_y, rot_x)\n",
    "\n",
    "\n",
    "# Function that computes growth factor from growth factor constants.\n",
    "def compute_growth(growth_constants):\n",
    "    return growth_constants.repeat(implicit1_points.shape[0], 1, 1)\n",
    "\n",
    "\n",
    "# Callback used by the registration model to compute the new growth factor\n",
    "# and normal frames.\n",
    "def precompute(init_manifold, modules, parameters, _):\n",
    "    init_manifold[1].gd = (init_manifold[1].gd[0], compute_basis(parameters['growth']['params'][0]))\n",
    "    modules[1].C = compute_growth(parameters['growth']['params'][1])"
   ]
  },
  {
   "cell_type": "markdown",
   "metadata": {},
   "source": [
    "Define deformables used by the registration model.\n",
    "\n",
    "\n"
   ]
  },
  {
   "cell_type": "code",
   "execution_count": 11,
   "metadata": {},
   "outputs": [],
   "source": [
    "deformable_source = imodal.Models.DeformableMesh(source_points, source_triangles)\n",
    "deformable_target = imodal.Models.DeformableMesh(target_points, target_triangles)\n",
    "\n",
    "deformable_source.to_device(device)\n",
    "deformable_target.to_device(device)"
   ]
  },
  {
   "cell_type": "markdown",
   "metadata": {},
   "source": [
    "Define the registration model.\n",
    "\n",
    "\n"
   ]
  },
  {
   "cell_type": "code",
   "execution_count": 12,
   "metadata": {},
   "outputs": [],
   "source": [
    "sigmas_varifold = [1., 5., 15.]\n",
    "attachment = imodal.Attachment.VarifoldAttachment(3, sigmas_varifold)\n",
    "\n",
    "model = imodal.Models.RegistrationModel(deformable_source, [implicit1, implicit0, global_translation, rotation], [attachment], fit_gd=None, lam=100., precompute_callback=precompute, other_parameters={'growth': {'params': [angles, growth_constants]}})\n",
    "model.to_device(device)"
   ]
  },
  {
   "cell_type": "markdown",
   "metadata": {},
   "source": [
    "Fitting using Torch LBFGS optimizer.\n",
    "\n",
    "\n"
   ]
  },
  {
   "cell_type": "code",
   "execution_count": null,
   "metadata": {},
   "outputs": [
    {
     "name": "stdout",
     "output_type": "stream",
     "text": [
      "[pyKeOps] Initializing build folder for dtype=float64 and lang=torch in /home/mette/.cache/pykeops-1.5-cpython-38 ... "
     ]
    },
    {
     "name": "stderr",
     "output_type": "stream",
     "text": [
      "/home/mette/anaconda3/envs/py38/lib/python3.8/site-packages/torchdiffeq/_impl/misc.py:296: UserWarning: t is not on the same device as y0. Coercing to y0.device.\n",
      "  warnings.warn(\"t is not on the same device as y0. Coercing to y0.device.\")\n"
     ]
    },
    {
     "name": "stdout",
     "output_type": "stream",
     "text": [
      "done.\n",
      "[pyKeOps] Compiling libKeOpstorcha05b4f18c1 in /home/mette/.cache/pykeops-1.5-cpython-38:\n",
      "       formula: Sum_Reduction(TensorProd(-S*Exp(-S*SqNorm2(x - y)/IntCst(2))*(x - y), p),0)\n",
      "       aliases: x = Vi(0,3); y = Vj(1,3); p = Vj(2,3); S = Pm(3,1); \n",
      "       dtype  : float64\n",
      "... \n",
      "[pyKeOps] Compiling pybind11 template libKeOps_template_607a9d303c in /home/mette/.cache/pykeops-1.5-cpython-38 ... done.\n",
      "Done.\n",
      "[pyKeOps] Compiling libKeOpstorch8490a82e5d in /home/mette/.cache/pykeops-1.5-cpython-38:\n",
      "       formula: Sum_Reduction(TensorDot(-S*Exp(-S*SqNorm2(x - y)/IntCst(2))*(S*TensorDot(x-y, x-y, Ind(3), Ind(3), Ind(), Ind())-eye), p, Ind(3, 3), Ind(3, 3), Ind(1),Ind(1)),0)\n",
      "       aliases: x = Vi(0,3); y = Vj(1,3); p = Vj(2,9); eye = Pm(3,9); S = Pm(4,1); \n",
      "       dtype  : float64\n",
      "... \n",
      "Done.\n",
      "[pyKeOps] Compiling libKeOpstorch8ec0491cf5 in /home/mette/.cache/pykeops-1.5-cpython-38:\n",
      "       formula: Sum_Reduction(TensorDot(TensorDot((-S*Exp(-S*SqNorm2(x_i - y_j)*IntInv(2))*(S*TensorDot(x_i - y_j, x_i - y_j, Ind(3), Ind(3), Ind(), Ind()) - eye)), A, Ind(3, 3), Ind(3, 3, 6, 6), Ind(0, 1), Ind(0, 1)), X, Ind(6, 6), Ind(6), Ind(0), Ind(0)),0)\n",
      "       aliases: x_i = Vi(0,3); y_j = Vj(1,3); X = Vj(2,6); eye = Pm(3,9); S = Pm(4,1); A = Pm(5,324); \n",
      "       dtype  : float64\n",
      "... \n",
      "Done.\n",
      "[pyKeOps] Compiling libKeOpstorch67dc19a867 in /home/mette/.cache/pykeops-1.5-cpython-38:\n",
      "       formula: Sum_Reduction(Exp(-S*SqNorm2(x - y)/IntCst(2))*p,0)\n",
      "       aliases: x = Vi(0,3); y = Vj(1,3); p = Vj(2,3); S = Pm(3,1); \n",
      "       dtype  : float64\n",
      "... \n"
     ]
    },
    {
     "name": "stderr",
     "output_type": "stream",
     "text": [
      "/home/mette/github/implicitmodules/imodal/DeformationModules/ImplicitModule1.py:239: UserWarning: torch.solve is deprecated in favor of torch.linalg.solveand will be removed in a future PyTorch release.\n",
      "torch.linalg.solve has its arguments reversed and does not return the LU factorization.\n",
      "To get the LU factorization see torch.lu, which can be used with torch.lu_solve or torch.lu_unpack.\n",
      "X = torch.solve(B, A).solution\n",
      "should be replaced with\n",
      "X = torch.linalg.solve(A, B) (Triggered internally at  ../aten/src/ATen/native/BatchLinearAlgebra.cpp:766.)\n",
      "  c, _ = torch.solve(torch.mm(aq.t(), tlambdas.view(-1, 1)), aqkiaq)\n"
     ]
    },
    {
     "name": "stdout",
     "output_type": "stream",
     "text": [
      "Done.\n",
      "[pyKeOps] Compiling libKeOpstorchbc5b3658a1 in /home/mette/.cache/pykeops-1.5-cpython-38:\n",
      "       formula: Sum_Reduction(TensorDot(S*Exp(-S*SqNorm2(x - y)/IntCst(2))*(x - y), p, Ind(3), Ind(3, 3), Ind(0), Ind(1)),0)\n",
      "       aliases: x = Vi(0,3); y = Vj(1,3); p = Vj(2,9); S = Pm(3,1); \n",
      "       dtype  : float64\n",
      "... \n",
      "Done.\n",
      "[pyKeOps] Compiling libKeOpstorch348c2b0896 in /home/mette/.cache/pykeops-1.5-cpython-38:\n",
      "       formula: Sum_Reduction(Exp(-S*SqNorm2(x - y)/IntCst(2))*X,0)\n",
      "       aliases: x = Vi(0,3); y = Vj(1,3); X = Vj(2,3); S = Pm(3,1); \n",
      "       dtype  : float64\n",
      "... \n",
      "Done.\n",
      "[pyKeOps] Compiling libKeOpstorchdd5cba9f93 in /home/mette/.cache/pykeops-1.5-cpython-38:\n",
      "       formula: Sum_Reduction((Exp(-S*SqNorm2(x - y)/IntCst(2))*px | py),1)\n",
      "       aliases: x = Vi(0,3); y = Vj(1,3); px = Vi(2,3); py = Vj(3,3); S = Pm(4,1); \n",
      "       dtype  : float64\n",
      "... \n",
      "Done.\n",
      "[pyKeOps] Compiling libKeOpstorcheb05f2a734 in /home/mette/.cache/pykeops-1.5-cpython-38:\n",
      "       formula: Grad_WithSavedForward(Sum_Reduction((Exp(-S*SqNorm2(x - y)/IntCst(2))*px | py),1), Var(0,3,0), Var(5,1,1), Var(6,1,1))\n",
      "       aliases: x = Vi(0,3); y = Vj(1,3); px = Vi(2,3); py = Vj(3,3); S = Pm(4,1); Var(5,1,1); Var(6,1,1); \n",
      "       dtype  : float64\n",
      "... \n",
      "Done.\n",
      "[pyKeOps] Compiling libKeOpstorchdfc8f5a9b8 in /home/mette/.cache/pykeops-1.5-cpython-38:\n",
      "       formula: Grad_WithSavedForward(Sum_Reduction((Exp(-S*SqNorm2(x - y)/IntCst(2))*px | py),1), Var(1,3,1), Var(5,1,1), Var(6,1,1))\n",
      "       aliases: x = Vi(0,3); y = Vj(1,3); px = Vi(2,3); py = Vj(3,3); S = Pm(4,1); Var(5,1,1); Var(6,1,1); \n",
      "       dtype  : float64\n",
      "... \n",
      "Done.\n",
      "[pyKeOps] Compiling libKeOpstorch7690ab3e3b in /home/mette/.cache/pykeops-1.5-cpython-38:\n",
      "       formula: Grad_WithSavedForward(Sum_Reduction((Exp(-S*SqNorm2(x - y)/IntCst(2))*px | py),1), Var(2,3,0), Var(5,1,1), Var(6,1,1))\n",
      "       aliases: x = Vi(0,3); y = Vj(1,3); px = Vi(2,3); py = Vj(3,3); S = Pm(4,1); Var(5,1,1); Var(6,1,1); \n",
      "       dtype  : float64\n",
      "... \n",
      "Done.\n",
      "[pyKeOps] Compiling libKeOpstorch91c470d1b8 in /home/mette/.cache/pykeops-1.5-cpython-38:\n",
      "       formula: Grad_WithSavedForward(Sum_Reduction((Exp(-S*SqNorm2(x - y)/IntCst(2))*px | py),1), Var(3,3,1), Var(5,1,1), Var(6,1,1))\n",
      "       aliases: x = Vi(0,3); y = Vj(1,3); px = Vi(2,3); py = Vj(3,3); S = Pm(4,1); Var(5,1,1); Var(6,1,1); \n",
      "       dtype  : float64\n",
      "... \n",
      "Done.\n",
      "[pyKeOps] Compiling libKeOpstorch1bc0cac030 in /home/mette/.cache/pykeops-1.5-cpython-38:\n",
      "       formula: Grad_WithSavedForward(Sum_Reduction(Exp(-S*SqNorm2(x - y)/IntCst(2))*p,0), Var(0,3,0), Var(4,3,0), Var(5,3,0))\n",
      "       aliases: x = Vi(0,3); y = Vj(1,3); p = Vj(2,3); S = Pm(3,1); Var(4,3,0); Var(5,3,0); \n",
      "       dtype  : float64\n",
      "... \n",
      "Done.\n",
      "[pyKeOps] Compiling libKeOpstorch2255d9b3ba in /home/mette/.cache/pykeops-1.5-cpython-38:\n",
      "       formula: Grad_WithSavedForward(Sum_Reduction(Exp(-S*SqNorm2(x - y)/IntCst(2))*p,0), Var(1,3,1), Var(4,3,0), Var(5,3,0))\n",
      "       aliases: x = Vi(0,3); y = Vj(1,3); p = Vj(2,3); S = Pm(3,1); Var(4,3,0); Var(5,3,0); \n",
      "       dtype  : float64\n",
      "... \n",
      "Done.\n",
      "[pyKeOps] Compiling libKeOpstorch96bc8b9406 in /home/mette/.cache/pykeops-1.5-cpython-38:\n",
      "       formula: Grad_WithSavedForward(Sum_Reduction(Exp(-S*SqNorm2(x - y)/IntCst(2))*p,0), Var(2,3,1), Var(4,3,0), Var(5,3,0))\n",
      "       aliases: x = Vi(0,3); y = Vj(1,3); p = Vj(2,3); S = Pm(3,1); Var(4,3,0); Var(5,3,0); \n",
      "       dtype  : float64\n",
      "... \n",
      "Done.\n",
      "[pyKeOps] Compiling libKeOpstorch5dc4faa878 in /home/mette/.cache/pykeops-1.5-cpython-38:\n",
      "       formula: Grad_WithSavedForward(Sum_Reduction(TensorDot(S*Exp(-S*SqNorm2(x - y)/IntCst(2))*(x - y), p, Ind(3), Ind(3, 3), Ind(0), Ind(1)),0), Var(0,3,0), Var(4,3,0), Var(5,3,0))\n",
      "       aliases: x = Vi(0,3); y = Vj(1,3); p = Vj(2,9); S = Pm(3,1); Var(4,3,0); Var(5,3,0); \n",
      "       dtype  : float64\n",
      "... \n",
      "Done.\n",
      "[pyKeOps] Compiling libKeOpstorcha6c8d3afec in /home/mette/.cache/pykeops-1.5-cpython-38:\n",
      "       formula: Grad_WithSavedForward(Sum_Reduction(TensorDot(S*Exp(-S*SqNorm2(x - y)/IntCst(2))*(x - y), p, Ind(3), Ind(3, 3), Ind(0), Ind(1)),0), Var(1,3,1), Var(4,3,0), Var(5,3,0))\n",
      "       aliases: x = Vi(0,3); y = Vj(1,3); p = Vj(2,9); S = Pm(3,1); Var(4,3,0); Var(5,3,0); \n",
      "       dtype  : float64\n",
      "... \n",
      "Done.\n",
      "[pyKeOps] Compiling libKeOpstorchf2f6046aec in /home/mette/.cache/pykeops-1.5-cpython-38:\n",
      "       formula: Grad_WithSavedForward(Sum_Reduction(TensorDot(S*Exp(-S*SqNorm2(x - y)/IntCst(2))*(x - y), p, Ind(3), Ind(3, 3), Ind(0), Ind(1)),0), Var(2,9,1), Var(4,3,0), Var(5,3,0))\n",
      "       aliases: x = Vi(0,3); y = Vj(1,3); p = Vj(2,9); S = Pm(3,1); Var(4,3,0); Var(5,3,0); \n",
      "       dtype  : float64\n",
      "... \n",
      "Done.\n",
      "[pyKeOps] Compiling libKeOpstorch67524b50a6 in /home/mette/.cache/pykeops-1.5-cpython-38:\n",
      "       formula: Grad_WithSavedForward(Sum_Reduction(TensorProd(-S*Exp(-S*SqNorm2(x - y)/IntCst(2))*(x - y), p),0), Var(0,3,0), Var(4,9,0), Var(5,9,0))\n",
      "       aliases: x = Vi(0,3); y = Vj(1,3); p = Vj(2,3); S = Pm(3,1); Var(4,9,0); Var(5,9,0); \n",
      "       dtype  : float64\n",
      "... \n",
      "Done.\n",
      "[pyKeOps] Compiling libKeOpstorch9df53af939 in /home/mette/.cache/pykeops-1.5-cpython-38:\n",
      "       formula: Grad_WithSavedForward(Sum_Reduction(TensorProd(-S*Exp(-S*SqNorm2(x - y)/IntCst(2))*(x - y), p),0), Var(1,3,1), Var(4,9,0), Var(5,9,0))\n",
      "       aliases: x = Vi(0,3); y = Vj(1,3); p = Vj(2,3); S = Pm(3,1); Var(4,9,0); Var(5,9,0); \n",
      "       dtype  : float64\n",
      "... \n",
      "Done.\n",
      "[pyKeOps] Compiling libKeOpstorchd73d5063a3 in /home/mette/.cache/pykeops-1.5-cpython-38:\n",
      "       formula: Grad_WithSavedForward(Sum_Reduction(TensorProd(-S*Exp(-S*SqNorm2(x - y)/IntCst(2))*(x - y), p),0), Var(2,3,1), Var(4,9,0), Var(5,9,0))\n",
      "       aliases: x = Vi(0,3); y = Vj(1,3); p = Vj(2,3); S = Pm(3,1); Var(4,9,0); Var(5,9,0); \n",
      "       dtype  : float64\n",
      "... \n",
      "Done.\n",
      "[pyKeOps] Compiling libKeOpstorch6c1691b2b2 in /home/mette/.cache/pykeops-1.5-cpython-38:\n",
      "       formula: Grad_WithSavedForward(Sum_Reduction(TensorDot(-S*Exp(-S*SqNorm2(x - y)/IntCst(2))*(S*TensorDot(x-y, x-y, Ind(3), Ind(3), Ind(), Ind())-eye), p, Ind(3, 3), Ind(3, 3), Ind(1),Ind(1)),0), Var(0,3,0), Var(5,9,0), Var(6,9,0))\n",
      "       aliases: x = Vi(0,3); y = Vj(1,3); p = Vj(2,9); eye = Pm(3,9); S = Pm(4,1); Var(5,9,0); Var(6,9,0); \n",
      "       dtype  : float64\n",
      "... \n",
      "Done.\n",
      "[pyKeOps] Compiling libKeOpstorch22caf9eaeb in /home/mette/.cache/pykeops-1.5-cpython-38:\n",
      "       formula: Grad_WithSavedForward(Sum_Reduction(TensorDot(-S*Exp(-S*SqNorm2(x - y)/IntCst(2))*(S*TensorDot(x-y, x-y, Ind(3), Ind(3), Ind(), Ind())-eye), p, Ind(3, 3), Ind(3, 3), Ind(1),Ind(1)),0), Var(1,3,1), Var(5,9,0), Var(6,9,0))\n",
      "       aliases: x = Vi(0,3); y = Vj(1,3); p = Vj(2,9); eye = Pm(3,9); S = Pm(4,1); Var(5,9,0); Var(6,9,0); \n",
      "       dtype  : float64\n",
      "... \n",
      "Done.\n",
      "[pyKeOps] Compiling libKeOpstorch8ab3e2cd9d in /home/mette/.cache/pykeops-1.5-cpython-38:\n",
      "       formula: Grad_WithSavedForward(Sum_Reduction(TensorDot(-S*Exp(-S*SqNorm2(x - y)/IntCst(2))*(S*TensorDot(x-y, x-y, Ind(3), Ind(3), Ind(), Ind())-eye), p, Ind(3, 3), Ind(3, 3), Ind(1),Ind(1)),0), Var(2,9,1), Var(5,9,0), Var(6,9,0))\n",
      "       aliases: x = Vi(0,3); y = Vj(1,3); p = Vj(2,9); eye = Pm(3,9); S = Pm(4,1); Var(5,9,0); Var(6,9,0); \n",
      "       dtype  : float64\n",
      "... \n",
      "Done.\n",
      "[pyKeOps] Compiling libKeOpstorch4ae0097bd5 in /home/mette/.cache/pykeops-1.5-cpython-38:\n",
      "       formula: Grad_WithSavedForward(Sum_Reduction(Exp(-S*SqNorm2(x - y)/IntCst(2))*X,0), Var(0,3,0), Var(4,3,0), Var(5,3,0))\n",
      "       aliases: x = Vi(0,3); y = Vj(1,3); X = Vj(2,3); S = Pm(3,1); Var(4,3,0); Var(5,3,0); \n",
      "       dtype  : float64\n",
      "... \n",
      "Done.\n",
      "[pyKeOps] Compiling libKeOpstorchc0afbc6c49 in /home/mette/.cache/pykeops-1.5-cpython-38:\n",
      "       formula: Grad_WithSavedForward(Sum_Reduction(Exp(-S*SqNorm2(x - y)/IntCst(2))*X,0), Var(1,3,1), Var(4,3,0), Var(5,3,0))\n",
      "       aliases: x = Vi(0,3); y = Vj(1,3); X = Vj(2,3); S = Pm(3,1); Var(4,3,0); Var(5,3,0); \n",
      "       dtype  : float64\n",
      "... \n",
      "Done.\n",
      "[pyKeOps] Compiling libKeOpstorchf1ece7137f in /home/mette/.cache/pykeops-1.5-cpython-38:\n",
      "       formula: Grad_WithSavedForward(Sum_Reduction(TensorDot(TensorDot((-S*Exp(-S*SqNorm2(x_i - y_j)*IntInv(2))*(S*TensorDot(x_i - y_j, x_i - y_j, Ind(3), Ind(3), Ind(), Ind()) - eye)), A, Ind(3, 3), Ind(3, 3, 6, 6), Ind(0, 1), Ind(0, 1)), X, Ind(6, 6), Ind(6), Ind(0), Ind(0)),0), Var(0,3,0), Var(6,6,0), Var(7,6,0))\n",
      "       aliases: x_i = Vi(0,3); y_j = Vj(1,3); X = Vj(2,6); eye = Pm(3,9); S = Pm(4,1); A = Pm(5,324); Var(6,6,0); Var(7,6,0); \n",
      "       dtype  : float64\n",
      "... \n"
     ]
    },
    {
     "name": "stdout",
     "output_type": "stream",
     "text": [
      "Done.\n",
      "[pyKeOps] Compiling libKeOpstorch8175167ba5 in /home/mette/.cache/pykeops-1.5-cpython-38:\n",
      "       formula: Grad_WithSavedForward(Sum_Reduction(TensorDot(TensorDot((-S*Exp(-S*SqNorm2(x_i - y_j)*IntInv(2))*(S*TensorDot(x_i - y_j, x_i - y_j, Ind(3), Ind(3), Ind(), Ind()) - eye)), A, Ind(3, 3), Ind(3, 3, 6, 6), Ind(0, 1), Ind(0, 1)), X, Ind(6, 6), Ind(6), Ind(0), Ind(0)),0), Var(1,3,1), Var(6,6,0), Var(7,6,0))\n",
      "       aliases: x_i = Vi(0,3); y_j = Vj(1,3); X = Vj(2,6); eye = Pm(3,9); S = Pm(4,1); A = Pm(5,324); Var(6,6,0); Var(7,6,0); \n",
      "       dtype  : float64\n",
      "... \n",
      "Done.\n",
      "[pyKeOps] Compiling libKeOpstorch7c89b7e4a3 in /home/mette/.cache/pykeops-1.5-cpython-38:\n",
      "       formula: Sum_Reduction(Exp(-S*SqNorm2(x - y)/IntCst(2)) * Square((u|v))*p,0)\n",
      "       aliases: x = Vi(0,3); y = Vj(1,3); u = Vi(2,3); v = Vj(3,3); p = Vj(4,1); S = Pm(5,1); \n",
      "       dtype  : float64\n",
      "... \n",
      "Done.\n",
      "[pyKeOps] Compiling libKeOpstorch5299a2ce4c in /home/mette/.cache/pykeops-1.5-cpython-38:\n",
      "       formula: Grad_WithSavedForward(Sum_Reduction(Exp(-S*SqNorm2(x - y)/IntCst(2)) * Square((u|v))*p,0), Var(0,3,0), Var(6,1,0), Var(7,1,0))\n",
      "       aliases: x = Vi(0,3); y = Vj(1,3); u = Vi(2,3); v = Vj(3,3); p = Vj(4,1); S = Pm(5,1); Var(6,1,0); Var(7,1,0); \n",
      "       dtype  : float64\n",
      "... \n",
      "Done.\n",
      "[pyKeOps] Compiling libKeOpstorchb9c6c205ed in /home/mette/.cache/pykeops-1.5-cpython-38:\n",
      "       formula: Grad_WithSavedForward(Sum_Reduction(Exp(-S*SqNorm2(x - y)/IntCst(2)) * Square((u|v))*p,0), Var(2,3,0), Var(6,1,0), Var(7,1,0))\n",
      "       aliases: x = Vi(0,3); y = Vj(1,3); u = Vi(2,3); v = Vj(3,3); p = Vj(4,1); S = Pm(5,1); Var(6,1,0); Var(7,1,0); \n",
      "       dtype  : float64\n",
      "... \n",
      "Done.\n",
      "[pyKeOps] Compiling libKeOpstorch68c2b562fd in /home/mette/.cache/pykeops-1.5-cpython-38:\n",
      "       formula: Grad_WithSavedForward(Sum_Reduction(Exp(-S*SqNorm2(x - y)/IntCst(2)) * Square((u|v))*p,0), Var(1,3,1), Var(6,1,0), Var(7,1,0))\n",
      "       aliases: x = Vi(0,3); y = Vj(1,3); u = Vi(2,3); v = Vj(3,3); p = Vj(4,1); S = Pm(5,1); Var(6,1,0); Var(7,1,0); \n",
      "       dtype  : float64\n",
      "... \n",
      "Done.\n",
      "[pyKeOps] Compiling libKeOpstorchcedc86d438 in /home/mette/.cache/pykeops-1.5-cpython-38:\n",
      "       formula: Grad_WithSavedForward(Sum_Reduction(Exp(-S*SqNorm2(x - y)/IntCst(2)) * Square((u|v))*p,0), Var(3,3,1), Var(6,1,0), Var(7,1,0))\n",
      "       aliases: x = Vi(0,3); y = Vj(1,3); u = Vi(2,3); v = Vj(3,3); p = Vj(4,1); S = Pm(5,1); Var(6,1,0); Var(7,1,0); \n",
      "       dtype  : float64\n",
      "... \n",
      "Done.\n",
      "[pyKeOps] Compiling libKeOpstorchcb8c8d982b in /home/mette/.cache/pykeops-1.5-cpython-38:\n",
      "       formula: Grad_WithSavedForward(Sum_Reduction(Exp(-S*SqNorm2(x - y)/IntCst(2)) * Square((u|v))*p,0), Var(4,1,1), Var(6,1,0), Var(7,1,0))\n",
      "       aliases: x = Vi(0,3); y = Vj(1,3); u = Vi(2,3); v = Vj(3,3); p = Vj(4,1); S = Pm(5,1); Var(6,1,0); Var(7,1,0); \n",
      "       dtype  : float64\n",
      "... \n",
      "Done.\n",
      "[pyKeOps] Compiling libKeOpstorchf027b85c02 in /home/mette/.cache/pykeops-1.5-cpython-38:\n",
      "       formula: Grad_WithSavedForward(Grad_WithSavedForward(Sum_Reduction(TensorProd(-S*Exp(-S*SqNorm2(x - y)/IntCst(2))*(x - y), p),0), Var(2,3,1), Var(4,9,0), Var(5,9,0)), Var(0,3,0), Var(6,3,1), Var(7,3,1))\n",
      "       aliases: x = Vi(0,3); y = Vj(1,3); p = Vj(2,3); S = Pm(3,1); Var(4,9,0); Var(5,9,0); Var(6,3,1); Var(7,3,1); \n",
      "       dtype  : float64\n",
      "... \n",
      "Done.\n",
      "[pyKeOps] Compiling libKeOpstorchf782f952a2 in /home/mette/.cache/pykeops-1.5-cpython-38:\n",
      "       formula: Grad_WithSavedForward(Grad_WithSavedForward(Sum_Reduction(TensorProd(-S*Exp(-S*SqNorm2(x - y)/IntCst(2))*(x - y), p),0), Var(2,3,1), Var(4,9,0), Var(5,9,0)), Var(1,3,1), Var(6,3,1), Var(7,3,1))\n",
      "       aliases: x = Vi(0,3); y = Vj(1,3); p = Vj(2,3); S = Pm(3,1); Var(4,9,0); Var(5,9,0); Var(6,3,1); Var(7,3,1); \n",
      "       dtype  : float64\n",
      "... \n",
      "Done.\n",
      "[pyKeOps] Compiling libKeOpstorch07e0ae6f1e in /home/mette/.cache/pykeops-1.5-cpython-38:\n",
      "       formula: Grad_WithSavedForward(Grad_WithSavedForward(Sum_Reduction(TensorProd(-S*Exp(-S*SqNorm2(x - y)/IntCst(2))*(x - y), p),0), Var(2,3,1), Var(4,9,0), Var(5,9,0)), Var(2,3,1), Var(6,3,1), Var(7,3,1))\n",
      "       aliases: x = Vi(0,3); y = Vj(1,3); p = Vj(2,3); S = Pm(3,1); Var(4,9,0); Var(5,9,0); Var(6,3,1); Var(7,3,1); \n",
      "       dtype  : float64\n",
      "... \n",
      "Done.\n",
      "[pyKeOps] Compiling libKeOpstorch33cb7e1d7c in /home/mette/.cache/pykeops-1.5-cpython-38:\n",
      "       formula: Grad_WithSavedForward(Grad_WithSavedForward(Sum_Reduction(TensorProd(-S*Exp(-S*SqNorm2(x - y)/IntCst(2))*(x - y), p),0), Var(2,3,1), Var(4,9,0), Var(5,9,0)), Var(4,9,0), Var(6,3,1), Var(7,3,1))\n",
      "       aliases: x = Vi(0,3); y = Vj(1,3); p = Vj(2,3); S = Pm(3,1); Var(4,9,0); Var(5,9,0); Var(6,3,1); Var(7,3,1); \n",
      "       dtype  : float64\n",
      "... \n",
      "Done.\n",
      "[pyKeOps] Compiling libKeOpstorche0bd67d0fc in /home/mette/.cache/pykeops-1.5-cpython-38:\n",
      "       formula: Grad_WithSavedForward(Grad_WithSavedForward(Sum_Reduction(Exp(-S*SqNorm2(x - y)/IntCst(2))*p,0), Var(2,3,1), Var(4,3,0), Var(5,3,0)), Var(0,3,0), Var(6,3,1), Var(7,3,1))\n",
      "       aliases: x = Vi(0,3); y = Vj(1,3); p = Vj(2,3); S = Pm(3,1); Var(4,3,0); Var(5,3,0); Var(6,3,1); Var(7,3,1); \n",
      "       dtype  : float64\n",
      "... \n",
      "Done.\n",
      "[pyKeOps] Compiling libKeOpstorch5384b43f93 in /home/mette/.cache/pykeops-1.5-cpython-38:\n",
      "       formula: Grad_WithSavedForward(Grad_WithSavedForward(Sum_Reduction(Exp(-S*SqNorm2(x - y)/IntCst(2))*p,0), Var(2,3,1), Var(4,3,0), Var(5,3,0)), Var(1,3,1), Var(6,3,1), Var(7,3,1))\n",
      "       aliases: x = Vi(0,3); y = Vj(1,3); p = Vj(2,3); S = Pm(3,1); Var(4,3,0); Var(5,3,0); Var(6,3,1); Var(7,3,1); \n",
      "       dtype  : float64\n",
      "... \n",
      "Done.\n",
      "[pyKeOps] Compiling libKeOpstorch4c8df0ec3f in /home/mette/.cache/pykeops-1.5-cpython-38:\n",
      "       formula: Grad_WithSavedForward(Grad_WithSavedForward(Sum_Reduction(Exp(-S*SqNorm2(x - y)/IntCst(2))*p,0), Var(2,3,1), Var(4,3,0), Var(5,3,0)), Var(2,3,1), Var(6,3,1), Var(7,3,1))\n",
      "       aliases: x = Vi(0,3); y = Vj(1,3); p = Vj(2,3); S = Pm(3,1); Var(4,3,0); Var(5,3,0); Var(6,3,1); Var(7,3,1); \n",
      "       dtype  : float64\n",
      "... \n"
     ]
    }
   ],
   "source": [
    "shoot_solver = 'euler'\n",
    "shoot_it = 10\n",
    "costs = {}\n",
    "fitter = imodal.Models.Fitter(model, optimizer='torch_lbfgs')\n",
    "\n",
    "fitter.fit(deformable_target, 500, costs=costs, options={'shoot_solver': shoot_solver, 'shoot_it': shoot_it, 'line_search_fn': 'strong_wolfe', 'history_size': 500})"
   ]
  },
  {
   "cell_type": "markdown",
   "metadata": {},
   "source": [
    "Compute optimized deformation trajectory.\n",
    "\n",
    "\n"
   ]
  },
  {
   "cell_type": "code",
   "execution_count": null,
   "metadata": {},
   "outputs": [],
   "source": [
    "import time\n",
    "intermediates = {}\n",
    "start = time.perf_counter()\n",
    "with torch.autograd.no_grad():\n",
    "    deformed = model.compute_deformed(shoot_solver, shoot_it, intermediates=intermediates)[0][0].detach()\n",
    "print(\"Elapsed={elapsed}\".format(elapsed=time.perf_counter()-start))\n",
    "\n",
    "basis = compute_basis(angles.detach()).cpu()\n",
    "C = compute_growth(growth_constants.detach()).cpu()\n",
    "print(growth_constants.detach().cpu())\n",
    "\n",
    "imodal.Utilities.export_mesh(\"results_implicit_bunny/source.ply\", source_points.cpu(), source_triangles)\n",
    "imodal.Utilities.export_mesh(\"results_implicit_bunny/target.ply\", target_points.cpu(), target_triangles)\n",
    "imodal.Utilities.export_implicit1_growth(\"results_implicit_bunny/growth.vtk\", implicit1_points, C)\n",
    "imodal.Utilities.export_point_basis(\"results_implicit_bunny/basis.vtk\", implicit1_points, basis)\n",
    "imodal.Utilities.export_mesh_points(\"results_implicit_bunny/implicit0_points.vtk\", implicit0_points)\n",
    "\n",
    "for i, inter in enumerate(intermediates['states']):\n",
    "    imodal.Utilities.export_mesh(\"results_implicit_bunny/{}.ply\".format(i), inter[0].gd.cpu(), source_triangles)\n",
    "\n",
    "with open(\"results_implicit_bunny/model.txt\", 'w') as f:\n",
    "    f.write(str(model))\n",
    "\n",
    "with open(\"results_implicit_bunny/intermediates.pt\", 'wb') as f:\n",
    "    torch.save(intermediates, f)"
   ]
  },
  {
   "cell_type": "code",
   "execution_count": null,
   "metadata": {},
   "outputs": [],
   "source": []
  }
 ],
 "metadata": {
  "kernelspec": {
   "display_name": "py38",
   "language": "python",
   "name": "py38"
  },
  "language_info": {
   "codemirror_mode": {
    "name": "ipython",
    "version": 3
   },
   "file_extension": ".py",
   "mimetype": "text/x-python",
   "name": "python",
   "nbconvert_exporter": "python",
   "pygments_lexer": "ipython3",
   "version": "3.8.3"
  }
 },
 "nbformat": 4,
 "nbformat_minor": 1
}
