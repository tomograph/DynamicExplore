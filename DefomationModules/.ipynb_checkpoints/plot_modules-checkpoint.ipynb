{
 "cells": [
  {
   "cell_type": "code",
   "execution_count": null,
   "metadata": {
    "collapsed": false
   },
   "outputs": [],
   "source": [
    "%matplotlib inline"
   ]
  },
  {
   "cell_type": "markdown",
   "metadata": {},
   "source": [
    "\n# Building more Complex Deformation Modules\n\nIn this tutorial, we present the construction of the main deformation modules and display examples of vector fields they can generate.\n\n"
   ]
  },
  {
   "cell_type": "markdown",
   "metadata": {},
   "source": [
    "## Initialization\n\nImport relevant Python modules.\n\n\n"
   ]
  },
  {
   "cell_type": "code",
   "execution_count": null,
   "metadata": {
    "collapsed": false
   },
   "outputs": [],
   "source": [
    "import sys\nsys.path.append(\"../\")\nimport math\n\nimport torch\nimport matplotlib.pyplot as plt\n\nimport imodal\n\nimodal.Utilities.set_compute_backend('torch')\n\ntorch.manual_seed(1337)"
   ]
  },
  {
   "cell_type": "markdown",
   "metadata": {},
   "source": [
    "We define a grid on which we compute the generated vector fields.\n\n\n"
   ]
  },
  {
   "cell_type": "code",
   "execution_count": null,
   "metadata": {
    "collapsed": false
   },
   "outputs": [],
   "source": [
    "grid_points = imodal.Utilities.grid2vec(*torch.meshgrid([torch.linspace(-2., 2., 20), torch.linspace(-2., 2., 20)]))"
   ]
  },
  {
   "cell_type": "markdown",
   "metadata": {},
   "source": [
    "## Sum of Local Translations (unstructured)\nWe define the parameters, the scale of gaussian kernel **sigma**, **d** the dimension of the ambiant space and **p** the number of local translations (points in the geometrical descriptor).\n\n\n"
   ]
  },
  {
   "cell_type": "code",
   "execution_count": null,
   "metadata": {
    "collapsed": false
   },
   "outputs": [],
   "source": [
    "sigma = 0.5\nd = 2\np = 5"
   ]
  },
  {
   "cell_type": "markdown",
   "metadata": {},
   "source": [
    "There are two ways to build a sum of local translations module, either with **Translations** (explicit formulation) or with **ImplicitModule0** (implicit formulation).\nThe implicit formulation is a regularised version of the explicit one and depends on a regularization parameter **nu**.\n\n\n"
   ]
  },
  {
   "cell_type": "code",
   "execution_count": null,
   "metadata": {
    "collapsed": false
   },
   "outputs": [],
   "source": [
    "explicit_translation = imodal.DeformationModules.Translations(d, p, sigma)\n\nnu = 0.1\nimplicit_translation = imodal.DeformationModules.ImplicitModule0(d, p, sigma, nu=nu)"
   ]
  },
  {
   "cell_type": "markdown",
   "metadata": {},
   "source": [
    "We choose the geometrical descriptor i.e. the centers **gd** carrying the local translations.\nThen, we choose the controls **controls** i.e. the translation vectors.\n\n\n"
   ]
  },
  {
   "cell_type": "code",
   "execution_count": null,
   "metadata": {
    "collapsed": false
   },
   "outputs": [],
   "source": [
    "gd = 0.8*torch.randn(p, d)\ncontrols = torch.rand(p, d) - 0.5\n\nexplicit_translation.manifold.fill_gd(gd)\nimplicit_translation.manifold.fill_gd(gd)\n\nexplicit_translation.fill_controls(controls)\nimplicit_translation.fill_controls(controls)"
   ]
  },
  {
   "cell_type": "markdown",
   "metadata": {},
   "source": [
    "We compute and display the generated vector fields\n\n\n"
   ]
  },
  {
   "cell_type": "code",
   "execution_count": null,
   "metadata": {
    "collapsed": false
   },
   "outputs": [],
   "source": [
    "explicit_field = explicit_translation(grid_points)\nimplicit_field = implicit_translation(grid_points)\n\nplt.figure(figsize=[8., 4.])\nplt.subplot(1, 2, 1)\nplt.title(\"Explicit\")\nplt.quiver(grid_points[:, 0], grid_points[:, 1], explicit_field[:, 0], explicit_field[:, 1])\nplt.plot(gd[:, 0], gd[:, 1], 'x', color='blue')\nplt.quiver(gd[:, 0], gd[:, 1], controls[:, 0], controls[:, 1], scale=5., color='red', lw=1.5)\nplt.axis('equal')\nplt.axis('off')\n\nplt.subplot(1, 2, 2)\nplt.title(\"Implicit\")\nplt.quiver(grid_points[:, 0], grid_points[:, 1], implicit_field[:, 0], implicit_field[:, 1])\nplt.plot(gd[:, 0], gd[:, 1], 'x', color='blue')\nplt.quiver(gd[:, 0], gd[:, 1], controls[:, 0], controls[:, 1], scale=5., color='red', lw=1.5)\nplt.axis('equal')\nplt.axis('off')\n\nplt.show()"
   ]
  },
  {
   "cell_type": "markdown",
   "metadata": {},
   "source": [
    "## Local Constrained Translations\nWe build two deformation modules, based on the class **LocalConstrainedTranslation**, generating respectively\none local scaling **local_scaling** and one local rotation **local_rotation**.\nWe define the parameters, the scale of gaussian kernel **sigma** and **d** the dimension of the ambiant space.\n\n\n"
   ]
  },
  {
   "cell_type": "code",
   "execution_count": null,
   "metadata": {
    "collapsed": false
   },
   "outputs": [],
   "source": [
    "sigma = 1.\nd = 2\n\nlocal_scaling = imodal.DeformationModules.LocalScaling(d, sigma)\nlocal_rotation = imodal.DeformationModules.LocalRotation(d, sigma)"
   ]
  },
  {
   "cell_type": "markdown",
   "metadata": {},
   "source": [
    "We choose the geometrical descriptor **gd** made of one point and the controls **controls** made of one scalar\n\n<div class=\"alert alert-info\"><h4>Note</h4><p>The control dictate how strong the vector field will be, i.e.\n  how much the ambiant space around the gaussian will respectively\n  scale or rotate and the direction of the deformation.</p></div>\n\n\n"
   ]
  },
  {
   "cell_type": "code",
   "execution_count": null,
   "metadata": {
    "collapsed": false
   },
   "outputs": [],
   "source": [
    "gd = torch.zeros(1,d)\ncontrols = torch.ones(1)\n\nlocal_scaling.manifold.fill_gd(gd)\nlocal_rotation.manifold.fill_gd(gd)\n\nlocal_scaling.fill_controls(controls)\nlocal_rotation.fill_controls(controls)"
   ]
  },
  {
   "cell_type": "markdown",
   "metadata": {},
   "source": [
    "We compute and display the generated vector fields (**scaling_field** and **rotation_field**) as well as \nthe intermediate points and vectors used to build these fields (**support** and **vector**)\n\n\n"
   ]
  },
  {
   "cell_type": "code",
   "execution_count": null,
   "metadata": {
    "collapsed": false
   },
   "outputs": [],
   "source": [
    "scaling_field = local_scaling(grid_points)\nrotation_field = local_rotation(grid_points)\n\nsupport_scaling = local_scaling._f_support(gd)\nvector_scaling = local_scaling._f_vectors(gd)\nsupport_rotation = local_rotation._f_support(gd)\nvector_rotation = local_rotation._f_vectors(gd)\n\n\nplt.figure(figsize=[8., 4.])\nplt.subplot(1, 2, 1)\nplt.title(\"Local scaling\")\nplt.quiver(grid_points[:, 0], grid_points[:, 1], scaling_field[:, 0], scaling_field[:, 1], scale=8.)\nplt.plot(gd[:, 0], gd[:, 1], 'x', color='blue')\nplt.quiver(support_scaling[:, 0], support_scaling[:, 1], vector_scaling[:, 0], vector_scaling[:, 1], scale=10., color='red', lw=1.5)\nplt.axis('equal')\nplt.axis('off')\n\nplt.subplot(1, 2, 2)\nplt.title(\"Local rotation\")\nplt.quiver(grid_points[:, 0], grid_points[:, 1], rotation_field[:, 0], rotation_field[:, 1], scale=8.)\nplt.plot(gd[:, 0], gd[:, 1], 'x', color='blue')\nplt.quiver(support_rotation[:, 0], support_rotation[:, 1], vector_rotation[:, 0], vector_rotation[:, 1], scale=10., color='red', lw=1.5)\nplt.axis('equal')\nplt.axis('off')\n\nplt.show()"
   ]
  },
  {
   "cell_type": "markdown",
   "metadata": {},
   "source": [
    "## Implicit Deformation Module of Order 1\nWe will present here several examples of implicit deformation of order 1 and deformations they can generate.\nIn all these examples, the dimension of the control is $p=1$.\n\n\n"
   ]
  },
  {
   "cell_type": "markdown",
   "metadata": {},
   "source": [
    "We define the first parameters: the scale of gaussian kernel **sigma**, the dimension of the ambiant space **d** and the dimension of the control **p**.\n\n\n"
   ]
  },
  {
   "cell_type": "code",
   "execution_count": null,
   "metadata": {
    "collapsed": false
   },
   "outputs": [],
   "source": [
    "sigma = 0.3\nd = 2\np = 1\nnu = 0.001"
   ]
  },
  {
   "cell_type": "markdown",
   "metadata": {},
   "source": [
    "We also need to specify the number of points **N** on which the constraints are imposed. We will initially define these constraints on a regular grid **grid_points** and then retrieve the number of points.\n\n\n"
   ]
  },
  {
   "cell_type": "code",
   "execution_count": null,
   "metadata": {
    "collapsed": false
   },
   "outputs": [],
   "source": [
    "positions = torch.load(\"../data/unit_square_points.pt\").to(dtype=torch.get_default_dtype())\nN = positions.shape[0]"
   ]
  },
  {
   "cell_type": "markdown",
   "metadata": {},
   "source": [
    "The last parameter to set is the growth model tensor **C**. We recall that, if $h$ is the control, for each $i$ $C_ih$ defines the eigenvalues of the infinitesimal strain tensor of the generated vector field at the $i$-th point of the geometrical descriptor.\nWe will present 3 different choices for this parameter, corresponding to 3 different constraints.\n\n\n"
   ]
  },
  {
   "cell_type": "markdown",
   "metadata": {},
   "source": [
    "### Uniform directional scaling\n\nIn a first example, we define the growth model tensor **C_directionalscaling** such that it imposes a uniform direction scaling along the first direction of the eigenvector, and no metric change along the second one.\n\n\n"
   ]
  },
  {
   "cell_type": "code",
   "execution_count": null,
   "metadata": {
    "collapsed": false
   },
   "outputs": [],
   "source": [
    "C_directionalscaling = torch.zeros([N, d, p])\nC_directionalscaling[:, 0, :] = 1."
   ]
  },
  {
   "cell_type": "markdown",
   "metadata": {},
   "source": [
    "We define the corresponding implicit deformation module of order 1 **implicit**.\n\n\n"
   ]
  },
  {
   "cell_type": "code",
   "execution_count": null,
   "metadata": {
    "collapsed": false
   },
   "outputs": [],
   "source": [
    "implicit = imodal.DeformationModules.ImplicitModule1(d, N, sigma, C_directionalscaling, 0.01)"
   ]
  },
  {
   "cell_type": "markdown",
   "metadata": {},
   "source": [
    "We will present two generated vector field with two initialization of geometrical descriptors.\n\nWe choose first the geometrical descriptor **gd** made of **N** points **positions** and **N** rotation matrices **rot** equal to identity.\nWe recall that these rotation matrices define the eigenvectors of the infinitesimal strain tensor of the generated vector field at each point of the geometrical descriptor.\nThen, we choose the controls **controls** made of one scalar.\n\n\n"
   ]
  },
  {
   "cell_type": "code",
   "execution_count": null,
   "metadata": {
    "collapsed": false
   },
   "outputs": [],
   "source": [
    "rot = torch.stack([imodal.Utilities.rot2d(0.)]*positions.shape[0], axis=0)\ngd = (positions, rot)\n\nimplicit.manifold.fill_gd(gd)\n\ncontrols = torch.ones(p) \nimplicit.fill_controls(controls)"
   ]
  },
  {
   "cell_type": "markdown",
   "metadata": {},
   "source": [
    "We compute and display the growth factor corresponding to the infinitesimal strain tensor imposed at each point (defined by the eigenvalues and eigenvectors built previously).\n\nThere are two ways to display this growth factor:\n\n  i. with oriented arrows along each eigenvector with a length proportional to absolute value of the associated eigenvalue, pointing outward (resp. inward) if it is positive (resp. negative)\n  ii. with ellipses whose axis are given by the eigenvectors and the absolute value of the associated eigenvalues.\n\nWe then display the generated vector fields (**scaling_field** and **rotation_field**), and the infinitesimal deformation generated by it.\n\n\n"
   ]
  },
  {
   "cell_type": "code",
   "execution_count": null,
   "metadata": {
    "collapsed": false
   },
   "outputs": [],
   "source": [
    "implicit_field = implicit(grid_points)\nstep = 0.3\nnew_grid_points = grid_points + step * implicit_field\nnew_positions = positions + step * implicit(positions)\n\nplt.figure(figsize=[8., 8.])\nax = plt.subplot(2, 2, 1)\nplt.title(\"Growth factor displayed with arrows\")\nplt.plot(grid_points[:, 0], grid_points[:, 1], '.k', markersize=1)\nplt.plot(positions[:, 0], positions[:, 1], '.', color='blue')\nimodal.Utilities.plot_C_arrows(ax, positions, C_directionalscaling, R=rot, color='blue', scale=0.4, mutation_scale=8.)\nplt.axis('equal')\nplt.axis('off')\n\nax = plt.subplot(2, 2, 2)\nplt.title(\"Growth factor displayed with ellipses\")\nplt.plot(grid_points[:, 0], grid_points[:, 1], '.k', markersize=1)\nplt.plot(positions[:, 0], positions[:, 1], '.', color='blue')\nimodal.Utilities.plot_C_ellipses(ax, positions, C_directionalscaling, R=rot, color='blue', scale=0.3)\nplt.axis('equal')\nplt.axis('off')\n\nplt.subplot(2, 2, 3)\nplt.title(\"Generated vector field\")\nplt.plot(positions[:, 0], positions[:, 1], '.', color='blue')\nplt.quiver(grid_points[:, 0], grid_points[:, 1], implicit_field[:, 0], implicit_field[:, 1], scale=10., width=.01)\nplt.axis('equal')\nplt.axis('off')\n\nax = plt.subplot(2, 2, 4)\nplt.title(\"Infinitesimal deformation\")\nplt.plot(new_grid_points[:, 0], new_grid_points[:, 1], '.k', markersize=1)\nplt.plot(new_positions[:, 0], new_positions[:, 1], '.', color='blue')\nplt.axis('equal')\nplt.axis('off')\n\nplt.show()"
   ]
  },
  {
   "cell_type": "markdown",
   "metadata": {},
   "source": [
    "We now choose the **N** rotation matrices **rot** to be equal to the rotation matrix of angle $\\pi/2$.\n\n\n"
   ]
  },
  {
   "cell_type": "code",
   "execution_count": null,
   "metadata": {
    "collapsed": false
   },
   "outputs": [],
   "source": [
    "rot = torch.stack([imodal.Utilities.rot2d(0.5 * math.pi)]*positions.shape[0], axis=0)\ngd=(positions, rot)\n\nimplicit.manifold.fill_gd(gd)\n\ncontrols = torch.ones(p) \nimplicit.fill_controls(controls)\n\nimplicit_field = implicit(grid_points)\nstep = 0.3\nnew_grid_points = grid_points + step * implicit_field\nnew_positions = positions + step * implicit(positions)\n\n\nplt.figure(figsize=[8., 8.])\nax = plt.subplot(2, 2, 1)\nplt.title(\"Growth factor displayed with arrows\")\nplt.plot(grid_points[:, 0], grid_points[:, 1], '.k', markersize=1)\nplt.plot(positions[:, 0], positions[:, 1], '.', color='blue')\nimodal.Utilities.plot_C_arrows(ax, positions, C_directionalscaling, R=rot, color='blue', scale=0.4, mutation_scale=8.)\nplt.axis('equal')\nplt.axis('off')\n\nax = plt.subplot(2, 2, 2)\nplt.title(\"Growth factor displayed with ellipses\")\nplt.plot(grid_points[:, 0], grid_points[:, 1], '.k', markersize=1)\nplt.plot(positions[:, 0], positions[:, 1], '.', color='blue')\nimodal.Utilities.plot_C_ellipses(ax, positions, C_directionalscaling, R=rot, color='blue', scale=0.3)\nplt.axis('equal')\nplt.axis('off')\n\nplt.subplot(2, 2, 3)\nplt.title(\"Generated vector field\")\nplt.plot(positions[:, 0], positions[:, 1], '.', color='blue')\nplt.quiver(grid_points[:, 0], grid_points[:, 1], implicit_field[:, 0], implicit_field[:, 1], scale=10., width=.01)\nplt.axis('equal')\nplt.axis('off')\n\nax = plt.subplot(2, 2, 4)\nplt.title(\"Infinitesimal deformation\")\nplt.plot(new_grid_points[:, 0], new_grid_points[:, 1], '.k', markersize=1)\nplt.plot(new_positions[:, 0], new_positions[:, 1], '.', color='blue')\nplt.axis('equal')\nplt.axis('off')\nplt.show()"
   ]
  },
  {
   "cell_type": "markdown",
   "metadata": {},
   "source": [
    "The same result can be obtained with the growth model tensor **C_directionalscaling** imposing a uniform direction scaling along the second direction of the eigenvector, and no metric change along the first one and the N rotation matrices **rot** equal to the identity matrix.\n\n\n"
   ]
  },
  {
   "cell_type": "code",
   "execution_count": null,
   "metadata": {
    "collapsed": false
   },
   "outputs": [],
   "source": [
    "C_directionalscaling = torch.zeros([N, d, p])\nC_directionalscaling[:, 1, :] = 1.\n\nimplicit = imodal.DeformationModules.ImplicitModule1(d, N, sigma, C_directionalscaling, 0.01)\n\nrot = torch.stack([imodal.Utilities.rot2d(0.)]*positions.shape[0], axis=0)\ngd=(positions, rot)\n\nimplicit.manifold.fill_gd(gd)\n\nimplicit.fill_controls(controls)\n\nimplicit_field = implicit(grid_points)\nstep = 0.3\nnew_grid_points = grid_points + step * implicit_field\nnew_positions = positions + step * implicit(positions)\n\n\nplt.figure(figsize=[8., 8.])\nax = plt.subplot(2, 2, 1)\nplt.title(\"Growth factor displayed with arrows\")\nplt.plot(grid_points[:, 0], grid_points[:, 1], '.k', markersize=1)\nplt.plot(positions[:, 0], positions[:, 1], '.', color='blue')\nimodal.Utilities.plot_C_arrows(ax, positions, C_directionalscaling, R=rot, color='blue', scale=0.4, mutation_scale=8.)\nplt.axis('equal')\nplt.axis('off')\n\nax = plt.subplot(2, 2, 2)\nplt.title(\"Growth factor displayed with ellipses\")\nplt.plot(grid_points[:, 0], grid_points[:, 1], '.k', markersize=1)\nplt.plot(positions[:, 0], positions[:, 1], '.', color='blue')\nimodal.Utilities.plot_C_ellipses(ax, positions, C_directionalscaling, R=rot, color='blue', scale=0.3)\nplt.axis('equal')\nplt.axis('off')\n\nplt.subplot(2, 2, 3)\nplt.title(\"Generated vector field\")\nplt.plot(positions[:, 0], positions[:, 1], '.', color='blue')\nplt.quiver(grid_points[:, 0], grid_points[:, 1], implicit_field[:, 0], implicit_field[:, 1], scale=10., width=.01)\nplt.axis('equal')\nplt.axis('off')\n\nax = plt.subplot(2, 2, 4)\nplt.title(\"Infinitesimal deformation\")\nplt.plot(new_grid_points[:, 0], new_grid_points[:, 1], '.k', markersize=1)\nplt.plot(new_positions[:, 0], new_positions[:, 1], '.', color='blue')\nplt.axis('equal')\nplt.axis('off')\nplt.show()"
   ]
  },
  {
   "cell_type": "markdown",
   "metadata": {},
   "source": [
    "### Uniform anisotropic scaling\nWe define now another implicit deformation module of order 1 generating a uniform scaling twice as important on the first eigenvector than on the second. The growth model tensor **C_anisotropicscaling** is defined as follows.\n\n\n"
   ]
  },
  {
   "cell_type": "code",
   "execution_count": null,
   "metadata": {
    "collapsed": false
   },
   "outputs": [],
   "source": [
    "C_anisotropicscaling = torch.zeros([N, d, p])\nC_anisotropicscaling[:, 0, :] = 2.\nC_anisotropicscaling[:, 1, :] = 1.\n\nimplicit = imodal.DeformationModules.ImplicitModule1(d, N, sigma, C_anisotropicscaling, 0.01)"
   ]
  },
  {
   "cell_type": "markdown",
   "metadata": {},
   "source": [
    "We choose rotation matrices **rot** to be equal to the rotation matrix of angle $\\pi/4$.\n\n\n"
   ]
  },
  {
   "cell_type": "code",
   "execution_count": null,
   "metadata": {
    "collapsed": false
   },
   "outputs": [],
   "source": [
    "rot = torch.stack([imodal.Utilities.rot2d(math.pi/4.)]*positions.shape[0], axis=0)\ngd=(positions, rot)\n\nimplicit.manifold.fill_gd(gd)\n\nimplicit.fill_controls(controls)\n\nimplicit_field = implicit(grid_points)\nstep = 0.3\nnew_grid_points = grid_points + step * implicit_field\nnew_positions = positions + step * implicit(positions)\n\n\nplt.figure(figsize=[8., 8.])\nax = plt.subplot(2, 2, 1)\nplt.title(\"Growth factor displayed with arrows\")\nplt.plot(grid_points[:, 0], grid_points[:, 1], '.k', markersize=1)\nplt.plot(positions[:, 0], positions[:, 1], '.', color='blue')\nimodal.Utilities.plot_C_arrows(ax, positions, C_anisotropicscaling, R=rot, color='blue', scale=0.3, mutation_scale=8.)\nplt.axis('equal')\nplt.axis('off')\n\nax = plt.subplot(2, 2, 2)\nplt.title(\"Growth factor displayed with ellipses\")\nplt.plot(grid_points[:, 0], grid_points[:, 1], '.k', markersize=1)\nplt.plot(positions[:, 0], positions[:, 1], '.', color='blue')\nimodal.Utilities.plot_C_ellipses(ax, positions, C_anisotropicscaling, R=rot, color='blue', scale=0.15)\nplt.axis('equal')\nplt.axis('off')\n\nplt.subplot(2, 2, 3)\nplt.title(\"Generated vector field\")\nplt.plot(positions[:, 0], positions[:, 1], '.', color='blue')\nplt.quiver(grid_points[:, 0], grid_points[:, 1], implicit_field[:, 0], implicit_field[:, 1], scale=20., width=.01)\nplt.axis('equal')\nplt.axis('off')\n\nax = plt.subplot(2, 2, 4)\nplt.title(\"Infinitesimal deformation\")\nplt.plot(new_grid_points[:, 0], new_grid_points[:, 1], '.k', markersize=1)\nplt.plot(new_positions[:, 0], new_positions[:, 1], '.', color='blue')\nplt.axis('equal')\nplt.axis('off')\nplt.show()"
   ]
  },
  {
   "cell_type": "markdown",
   "metadata": {},
   "source": [
    "### Non uniform directional scaling\nWe present a last another implicit deformation module of order 1 with a non uniform growth model tensor **C_non_unif**. \nIt imposes a non uniform scaling on the second eigenvector, with a scaling factor depending on the x-coordinates of the points.\nIt is defined as follows.\n\n\n"
   ]
  },
  {
   "cell_type": "code",
   "execution_count": null,
   "metadata": {
    "collapsed": false
   },
   "outputs": [],
   "source": [
    "C_non_unif = torch.zeros([N, d, p])\nC_non_unif[:, 1, 0] = positions[:,0] + 1."
   ]
  },
  {
   "cell_type": "markdown",
   "metadata": {},
   "source": [
    "We define the corresponding implicit deformation module of order 1 **implicit**.\n\n\n"
   ]
  },
  {
   "cell_type": "code",
   "execution_count": null,
   "metadata": {
    "collapsed": false
   },
   "outputs": [],
   "source": [
    "implicit = imodal.DeformationModules.ImplicitModule1(d, N, sigma, C_non_unif, 0.01)"
   ]
  },
  {
   "cell_type": "markdown",
   "metadata": {},
   "source": [
    "We choose rotation matrices **rot** to be equal to the identity matrix.\n\n\n"
   ]
  },
  {
   "cell_type": "code",
   "execution_count": null,
   "metadata": {
    "collapsed": false
   },
   "outputs": [],
   "source": [
    "rot = torch.stack([imodal.Utilities.rot2d(0.)]*positions.shape[0], axis=0)\ngd=(positions, rot)\n\nimplicit.manifold.fill_gd(gd)\n\nimplicit.fill_controls(controls)\n\nimplicit_field = implicit(grid_points)\nstep = 0.3\nnew_grid_points = grid_points + step * implicit_field\nnew_positions = positions + step * implicit(positions)\n\n\nplt.figure(figsize=[8., 8.])\nax = plt.subplot(2, 2, 1)\nplt.title(\"Growth factor displayed with arrows\")\nplt.plot(grid_points[:, 0], grid_points[:, 1], '.k', markersize=1)\nplt.plot(positions[:, 0], positions[:, 1], '.', color='blue')\nimodal.Utilities.plot_C_arrows(ax, positions, C_non_unif, R=rot, color='blue', scale=0.4, mutation_scale=8.)\nplt.axis('equal')\nplt.axis('off')\n\nax = plt.subplot(2, 2, 2)\nplt.title(\"Growth factor displayed with ellipses\")\nplt.plot(grid_points[:, 0], grid_points[:, 1], '.k', markersize=1)\nplt.plot(positions[:, 0], positions[:, 1], '.', color='blue')\nimodal.Utilities.plot_C_ellipses(ax, positions, C_non_unif, R=rot, color='blue', scale=0.2)\nplt.axis('equal')\nplt.axis('off')\n\nplt.subplot(2, 2, 3)\nplt.title(\"Generated vector field\")\nplt.plot(positions[:, 0], positions[:, 1], '.', color='blue')\nplt.quiver(grid_points[:, 0], grid_points[:, 1], implicit_field[:, 0], implicit_field[:, 1], scale=20., width=.01)\nplt.axis('equal')\nplt.axis('off')\n\nax = plt.subplot(2, 2, 4)\nplt.title(\"Infinitesimal deformation\")\nplt.plot(new_grid_points[:, 0], new_grid_points[:, 1], '.k', markersize=1)\nplt.plot(new_positions[:, 0], new_positions[:, 1], '.', color='blue')\nplt.axis('equal')\nplt.axis('off')\nplt.show()"
   ]
  },
  {
   "cell_type": "markdown",
   "metadata": {},
   "source": [
    "## Compound Deformation Module\nWe present an example of the combination **compound** of two deformation modules: the previous implicit deformation module of order one **implicit** (which we rebuild) and one generating one local translation **translation**.\nWe will show an example of modular large deformation generated by this compound deformation module.\n\n\n"
   ]
  },
  {
   "cell_type": "code",
   "execution_count": null,
   "metadata": {
    "collapsed": false
   },
   "outputs": [],
   "source": [
    "d = 2\n\nsigma_implicit = 0.5\nN_implicit = N\np_implicit = 1\nnu_implicit = 0.001\n\nrot = torch.stack([imodal.Utilities.rot2d(0.)]*positions.shape[0], axis=0)\nC_non_unif = torch.zeros([N, d, p])\nC_non_unif[:, 1, 0] = positions[:,0] + 1.\nimplicit = imodal.DeformationModules.ImplicitModule1(d, N_implicit, sigma_implicit, C_non_unif, 0.01, gd=(positions, rot))\nimplicit.fill_controls(torch.ones(p_implicit))\n\n\nsigma_translation = 0.5\nN_translation = 1\ngd_translation = torch.tensor([[0., 1.]])\ntranslation = imodal.DeformationModules.Translations(d, N_translation, sigma_translation, gd=gd_translation)\ncontrol_translation = torch.tensor([[0., 2.]])\ntranslation.fill_controls(control_translation)\n\ncompound = imodal.DeformationModules.CompoundModule([implicit, translation])"
   ]
  },
  {
   "cell_type": "markdown",
   "metadata": {},
   "source": [
    "We display the growth factor and the translation vector.\nWe then display the generated vector fields (**scaling_field** and **rotation_field**), and the infinitesimal deformation generated by it.\n\n\n"
   ]
  },
  {
   "cell_type": "code",
   "execution_count": null,
   "metadata": {
    "collapsed": false
   },
   "outputs": [],
   "source": [
    "compound_field = compound(grid_points)\nstep = 0.2\nnew_grid_points = grid_points + step * compound_field\nnew_positions = positions + step * compound(positions)\nnew_gd_translation = gd_translation + step * compound(gd_translation)\n\n\nfig = plt.figure(figsize=[12., 4.])\nax = plt.subplot(1, 3, 1)\nplt.title(\"Growth factor\")\nplt.plot(grid_points[:, 0], grid_points[:, 1], '.k', markersize=1)\nplt.plot(positions[:, 0], positions[:, 1], '.', color='blue')\nimodal.Utilities.plot_C_ellipses(ax, positions, C_non_unif, R=rot, color='blue', scale=0.2)\nplt.plot(gd_translation[:,0], gd_translation[:,1], 'xb')\nplt.quiver(gd_translation[:,0], gd_translation[:,1], control_translation[:,0], control_translation[:,1], color='green', scale=30.)\nplt.axis('equal')\nplt.axis('off')\n\nplt.subplot(1, 3, 2)\nplt.title(\"Generated vector field\")\nplt.plot(positions[:, 0], positions[:, 1], '.', color='blue')\nplt.quiver(grid_points[:, 0], grid_points[:, 1], implicit_field[:, 0], implicit_field[:, 1], scale=20., width=.01)\nplt.plot(gd_translation[:,0], gd_translation[:,1], 'xb')\nplt.axis('equal')\nplt.axis('off')\n\nax = plt.subplot(1, 3, 3)\nplt.title(\"Infinitesimal deformation\")\nplt.plot(new_grid_points[:, 0], new_grid_points[:, 1], '.k', markersize=1)\nplt.plot(new_positions[:, 0], new_positions[:, 1], '.', color='blue')\nplt.plot(new_gd_translation[:,0], new_gd_translation[:,1], 'xb')\nplt.axis('equal')\nplt.axis('off')\n\nfig.tight_layout()\nplt.show()"
   ]
  },
  {
   "cell_type": "markdown",
   "metadata": {},
   "source": [
    "In order to better understand this compound module, we present a modular large deformation generated by it.\nIt is parametrized by an initial momentum which we set to zero except for **cotan_translation** associated to the local translation and **cotan_implicit_points** associated to the points of the geometrical descriptor of the implicit deformation module.\n\n\n"
   ]
  },
  {
   "cell_type": "code",
   "execution_count": null,
   "metadata": {
    "collapsed": false
   },
   "outputs": [],
   "source": [
    "cotan_translation = torch.tensor([[0., 1.]])\ntranslation.manifold.fill_cotan(cotan_translation)\n\ncotan_implicit_points = torch.zeros_like(positions)\ncotan_implicit_points[0,1] = -5.\nimplicit.manifold.fill_cotan((cotan_implicit_points, torch.zeros_like(rot)))"
   ]
  },
  {
   "cell_type": "markdown",
   "metadata": {},
   "source": [
    "In order to keep track of the grid deformation, we define a silent deformation module **silent** whose points are the grid points. It is built from the class **SilentLandmarks**.\n\n\n"
   ]
  },
  {
   "cell_type": "code",
   "execution_count": null,
   "metadata": {
    "collapsed": false
   },
   "outputs": [],
   "source": [
    "silent = imodal.DeformationModules.SilentLandmarks(dim=2, nb_pts=grid_points.shape[0], gd=grid_points.clone())"
   ]
  },
  {
   "cell_type": "markdown",
   "metadata": {},
   "source": [
    "We solve the shooting equations. \n\n\n"
   ]
  },
  {
   "cell_type": "code",
   "execution_count": null,
   "metadata": {
    "collapsed": false
   },
   "outputs": [],
   "source": [
    "shoot_method = 'euler'\nshoot_it = 10\nintermediates = {}\nimodal.HamiltonianDynamic.shoot(imodal.HamiltonianDynamic.Hamiltonian([silent, implicit, translation]), shoot_method, shoot_it, intermediates=intermediates)"
   ]
  },
  {
   "cell_type": "markdown",
   "metadata": {},
   "source": [
    "We display the deformed points, the vector of the translation and the growth factor at each time. \nNote that the growth model tensor **C_non_unif** is a fixed parameter that does not evolve during the integration of the flow but that the growth factor (constraining the infinitesimal strain tensor and illustrated by the blue ellipses) built from **C_non_unif**,  the control **control_translation_t** and the rotation matrices **rot_t** do evolve.\n\n\n"
   ]
  },
  {
   "cell_type": "code",
   "execution_count": null,
   "metadata": {
    "collapsed": false
   },
   "outputs": [],
   "source": [
    "display_index = [0, 3, 5, 7, 9]\naabb = imodal.Utilities.AABB.build_from_points(grid_points).scale(1.5)\n\nfig = plt.figure(figsize=[20., 4.])\nfor count, i in enumerate(display_index):\n    ax = plt.subplot(1, 5, count+1)\n    grid_points_t = intermediates['states'][i][0].gd.detach()\n    positions_t = intermediates['states'][i][1].gd[0].detach()\n    control_implicit_t = intermediates['controls'][i][1].detach()\n    rot_t = intermediates['states'][i][1].gd[1].detach()\n    gd_translation_t = intermediates['states'][i][2].gd.detach()\n    control_translation_t = intermediates['controls'][i][2].detach()\n    plt.plot(grid_points_t[:, 0], grid_points_t[:, 1], '.k', markersize=1)\n    plt.plot(positions_t[:, 0], positions_t[:, 1], '.', color='blue', markersize=3)\n    imodal.Utilities.plot_C_ellipses(ax, positions_t, control_implicit_t*C_non_unif, R=rot_t, color='blue', scale=1.)\n    plt.plot(gd_translation_t[:,0], gd_translation_t[:,1], 'xb')\n    plt.quiver(gd_translation_t[:,0], gd_translation_t[:,1], control_translation_t[:,0], control_translation_t[:,1], color='green', scale=5., width=.02)\n    # plt.axis('equal')\n    plt.axis(aabb.totuple())\n    plt.axis('off')\n\nfig.tight_layout()\nplt.show()"
   ]
  }
 ],
 "metadata": {
  "kernelspec": {
   "display_name": "Python 3",
   "language": "python",
   "name": "python3"
  },
  "language_info": {
   "codemirror_mode": {
    "name": "ipython",
    "version": 3
   },
   "file_extension": ".py",
   "mimetype": "text/x-python",
   "name": "python",
   "nbconvert_exporter": "python",
   "pygments_lexer": "ipython3",
   "version": "3.6.7"
  }
 },
 "nbformat": 4,
 "nbformat_minor": 0
}
