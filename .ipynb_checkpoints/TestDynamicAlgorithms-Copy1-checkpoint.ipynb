{
 "cells": [
  {
   "cell_type": "code",
   "execution_count": 1,
   "id": "da09292b",
   "metadata": {},
   "outputs": [
    {
     "ename": "ModuleNotFoundError",
     "evalue": "No module named 'plot_utils'",
     "output_type": "error",
     "traceback": [
      "\u001b[0;31m---------------------------------------------------------------------------\u001b[0m",
      "\u001b[0;31mModuleNotFoundError\u001b[0m                       Traceback (most recent call last)",
      "\u001b[0;32m<ipython-input-1-3b01ace60ab8>\u001b[0m in \u001b[0;36m<module>\u001b[0;34m\u001b[0m\n\u001b[1;32m     16\u001b[0m         'size'   : 20}\n\u001b[1;32m     17\u001b[0m \u001b[0mmpl\u001b[0m\u001b[0;34m.\u001b[0m\u001b[0mrc\u001b[0m\u001b[0;34m(\u001b[0m\u001b[0;34m'font'\u001b[0m\u001b[0;34m,\u001b[0m \u001b[0;34m**\u001b[0m\u001b[0mfont\u001b[0m\u001b[0;34m)\u001b[0m\u001b[0;34m\u001b[0m\u001b[0;34m\u001b[0m\u001b[0m\n\u001b[0;32m---> 18\u001b[0;31m \u001b[0;32mfrom\u001b[0m \u001b[0mplot_utils\u001b[0m \u001b[0;32mimport\u001b[0m \u001b[0;34m*\u001b[0m\u001b[0;34m\u001b[0m\u001b[0;34m\u001b[0m\u001b[0m\n\u001b[0m\u001b[1;32m     19\u001b[0m \u001b[0;32mfrom\u001b[0m \u001b[0mregistration_utils\u001b[0m \u001b[0;32mimport\u001b[0m\u001b[0;34m*\u001b[0m\u001b[0;34m\u001b[0m\u001b[0;34m\u001b[0m\u001b[0m\n\u001b[1;32m     20\u001b[0m \u001b[0;32mfrom\u001b[0m \u001b[0mskimage\u001b[0m\u001b[0;34m.\u001b[0m\u001b[0mfilters\u001b[0m \u001b[0;32mimport\u001b[0m \u001b[0mtry_all_threshold\u001b[0m\u001b[0;34m,\u001b[0m \u001b[0mthreshold_mean\u001b[0m\u001b[0;34m,\u001b[0m \u001b[0mthreshold_minimum\u001b[0m\u001b[0;34m,\u001b[0m \u001b[0mthreshold_otsu\u001b[0m\u001b[0;34m,\u001b[0m \u001b[0mthreshold_isodata\u001b[0m\u001b[0;34m\u001b[0m\u001b[0;34m\u001b[0m\u001b[0m\n",
      "\u001b[0;31mModuleNotFoundError\u001b[0m: No module named 'plot_utils'"
     ]
    }
   ],
   "source": [
    "import odl\n",
    "from skimage.transform import rotate\n",
    "import scipy.signal\n",
    "%matplotlib inline\n",
    "import astra\n",
    "import numpy as np\n",
    "import scipy.sparse.linalg\n",
    "from algorithmImpls import *\n",
    "import matplotlib.pyplot as plt\n",
    "from os import listdir\n",
    "from os.path import isfile, join\n",
    "import matplotlib as mpl\n",
    "from tqdm import tqdm\n",
    "mpl.rcParams['figure.figsize'] = (10, 10)\n",
    "font = {'family' : 'normal',\n",
    "        'size'   : 20}\n",
    "mpl.rc('font', **font)\n",
    "from plot_utils import *\n",
    "from registration_utils import*\n",
    "from skimage.filters import try_all_threshold, threshold_mean, threshold_minimum, threshold_otsu, threshold_isodata"
   ]
  },
  {
   "cell_type": "markdown",
   "id": "bf6d068c",
   "metadata": {},
   "source": [
    "### Load projection data"
   ]
  },
  {
   "cell_type": "code",
   "execution_count": null,
   "id": "ef961d28",
   "metadata": {},
   "outputs": [],
   "source": [
    "def load_volume(filepath):\n",
    "    files = [file for file in np.sort(listdir(filepath)) if file.endswith(\".npy\")]\n",
    "    height, width = np.load(join(filepath,files[0])).shape\n",
    "    depth = len(files)\n",
    "    volume = np.zeros((depth, height, width))\n",
    "    for i,file in tqdm(enumerate(files)):\n",
    "        volume[i,:,:] = np.load(join(filepath,file))\n",
    "\n",
    "    volume = volume[:,:,:].astype('float32')\n",
    "    return volume\n",
    "\n",
    "volume = load_volume(\"../PhantomGenerator/output/slow_fast_big\")\n",
    "volume = volume[:,32:480,32:480].astype('float32')\n",
    "volume.shape"
   ]
  },
  {
   "cell_type": "markdown",
   "id": "f8d397e8",
   "metadata": {},
   "source": [
    "### Define parameters for reconstruction which are equal for all algorithms"
   ]
  },
  {
   "cell_type": "code",
   "execution_count": null,
   "id": "b2a0e6e1",
   "metadata": {},
   "outputs": [],
   "source": [
    "num_angles = 30#number of angles pr. frame\n",
    "num_angles_pi = 30 #number of angles for one full rotation\n",
    "\n",
    "frames, szrow, szcol = volume.shape\n",
    "\n",
    "bsex = np.sum(volume[:,:,:], axis=1).flatten()\n",
    "\n",
    "e = np.random.random(frames*szcol)\n",
    "rho = 0.01\n",
    "e = rho*np.linalg.norm(bsex)*e/np.linalg.norm(e)\n",
    "bs = bsex + e;\n",
    "\n",
    "sinogram = bs.reshape(frames, szcol)\n",
    "\n",
    "all_angles = np.linspace(0.0,8.03*np.pi, 240, endpoint=True)\n",
    "\n",
    "\n",
    "strt_stp_idx = int(num_angles/2)\n",
    "frame_idx = np.array((range(0,frames)))\n",
    "frames_to_reconstruct = np.array([0, 35, 175, 200])\n",
    "\n",
    "ground_truth = load_volume(\"../PhantomGenerator/output/slow_fast_big_no_rot\")[strt_stp_idx:-strt_stp_idx,106:406,106:406]"
   ]
  },
  {
   "cell_type": "code",
   "execution_count": null,
   "id": "3c2133ae",
   "metadata": {},
   "outputs": [],
   "source": [
    "volume.shape"
   ]
  },
  {
   "cell_type": "code",
   "execution_count": null,
   "id": "e13fa760",
   "metadata": {},
   "outputs": [],
   "source": [
    "P = sinogram\n",
    "\n",
    "fig, ax = plt.subplots(1,1)\n",
    "\n",
    "img = ax.imshow(P, cmap=\"gray\", origin='lower')\n",
    "\n",
    "x_label_list = [\"-224\", '224']\n",
    "\n",
    "ax.set_xticks([0,448])\n",
    "\n",
    "ax.set_xticklabels(x_label_list)\n",
    "\n",
    "y_label_list = [\"0.0\", r\"$8\\pi$\"]\n",
    "\n",
    "ax.set_yticks([0,239])\n",
    "\n",
    "ax.set_yticklabels(y_label_list)\n",
    "\n",
    "ax.set_xlabel(\"angles\")\n",
    "ax.set_ylabel(\"detector position\")\n",
    "\n",
    "fig.colorbar(img, fraction=0.025, pad=0.04)\n",
    "\n",
    "plt.savefig(\"sinogram.png\")"
   ]
  },
  {
   "cell_type": "markdown",
   "id": "763bae1a",
   "metadata": {},
   "source": [
    "Rotate ground truth to match reconstrcution from 0-pi. Due to inaccuracies it seems total rotation was 8.03 pi. "
   ]
  },
  {
   "cell_type": "code",
   "execution_count": null,
   "id": "202a8aad",
   "metadata": {},
   "outputs": [],
   "source": [
    "#align with reconstruction. I think pi is somewhat inaccurate in blender and everything is a little misaligned.\n",
    "#It's a dirty hack but it work for now\n",
    "for frame in range(ground_truth.shape[0]):\n",
    "    ground_truth[frame,:,:] = rotate(ground_truth[frame,:,:].T,93+0.02*frame)#-54+0.02*frame)"
   ]
  },
  {
   "cell_type": "code",
   "execution_count": null,
   "id": "3efc1cb5",
   "metadata": {},
   "outputs": [],
   "source": [
    "im = ground_truth[0,:,:]\n",
    "plt.imshow(im, cmap=\"gray\")\n",
    "plt.title(f\"Ground truth frame {0}\")\n",
    "plt.axis(\"off\")"
   ]
  },
  {
   "cell_type": "markdown",
   "id": "4c16f771",
   "metadata": {},
   "source": [
    "### Angle scheme:"
   ]
  },
  {
   "cell_type": "code",
   "execution_count": null,
   "id": "48240520",
   "metadata": {},
   "outputs": [],
   "source": [
    "all_angles[frames_to_reconstruct]"
   ]
  },
  {
   "cell_type": "code",
   "execution_count": null,
   "id": "51f27fb3",
   "metadata": {},
   "outputs": [],
   "source": [
    "color_list = ['red', 'blue', 'green', 'yellow']\n",
    "theta = all_angles[frames_to_reconstruct]\n",
    "width = abs(all_angles[frames_to_reconstruct]-all_angles[frames_to_reconstruct+30])\n",
    "\n",
    "fig, ax = plt.subplots(1,len(theta), figsize=(16,8), subplot_kw={'projection': 'polar'})\n",
    "\n",
    "for i,t in enumerate(theta):\n",
    "    ax[i].bar(t, 1, width=width[i], bottom=0.0, color=color_list[i])\n",
    "    ax[i].set_title(f'Angles for frame {frames_to_reconstruct[i]+15}')\n",
    "\n",
    "plt.savefig(\"anglescheme.png\")\n",
    "fig.tight_layout()\n",
    "plt.show()"
   ]
  },
  {
   "cell_type": "code",
   "execution_count": null,
   "id": "0e1bf105",
   "metadata": {},
   "outputs": [],
   "source": [
    "fig, ax = plt.subplots(2,len(frames_to_reconstruct), figsize=(16,8))\n",
    "\n",
    "vmin = np.min(ground_truth)\n",
    "vmax = np.max(ground_truth)\n",
    "\n",
    "\n",
    "for i,f in enumerate(frames_to_reconstruct):\n",
    "    P = sinogram[f:f+num_angles]\n",
    "\n",
    "    reco_space = odl.uniform_discr(\n",
    "        min_pt=[-150, -150], max_pt=[150, 150], shape=[300, 300], dtype='float32')\n",
    "\n",
    "    angle_partition = odl.uniform_partition(all_angles[f], all_angles[f+num_angles], num_angles)\n",
    "    detector_partition = odl.uniform_partition(-224, 224, szrow)\n",
    "    geometry = odl.tomo.Parallel2dGeometry(angle_partition, detector_partition)\n",
    "    reco = TVRecon(P, geometry, reco_space, 0.1, niter=1000).data\n",
    "    im = ax[1,i].imshow(ground_truth[f,:,:], cmap=\"gray\", vmin=vmin, vmax=vmax)\n",
    "    ax[1,i].axis(\"off\")\n",
    "    ax[0,i].set_title(f'Frame {frames_to_reconstruct[i]+15}')\n",
    "    ax[0,i].imshow(reco, cmap=\"gray\", vmin=vmin, vmax=vmax)\n",
    "    ax[0,i].axis(\"off\")\n",
    "\n",
    "#fig.colorbar(im, ax=ax.ravel().tolist())\n",
    "plt.subplots_adjust(wspace=0.01, hspace=0.01)\n",
    "fig.colorbar(im, ax=ax.ravel().tolist(), fraction=0.045, pad=0.01)\n",
    "plt.savefig(\"TVdynamic.png\")\n",
    "\n",
    "plt.show()"
   ]
  },
  {
   "cell_type": "code",
   "execution_count": null,
   "id": "04605b4b",
   "metadata": {},
   "outputs": [],
   "source": [
    "P = sinogram[35: 35+30]\n",
    "\n",
    "reco_space = odl.uniform_discr(\n",
    "    min_pt=[-150, -150], max_pt=[150, 150], shape=[300, 300], dtype='float32')\n",
    "\n",
    "angle_partition = odl.uniform_partition(all_angles[35], all_angles[35+30], 30)\n",
    "detector_partition = odl.uniform_partition(-224, 224, szrow)\n",
    "geometry = odl.tomo.Parallel2dGeometry(angle_partition, detector_partition)\n",
    "reco = TVRecon(P, geometry, reco_space, 0.1, niter=1000).data\n",
    "im = plt.imshow(reco, cmap=\"gray\", vmin=vmin, vmax=vmax)\n",
    "plt.colorbar(im, fraction=0.045, pad=0.01)\n",
    "plt.title(\"Frame 50\")\n",
    "plt.axis(\"off\")\n",
    "plt.savefig(\"TVdynamic_frame_50.png\")\n"
   ]
  },
  {
   "cell_type": "code",
   "execution_count": null,
   "id": "ddbf7277",
   "metadata": {},
   "outputs": [],
   "source": [
    "P = sinogram\n",
    "\n",
    "reco_space = odl.uniform_discr(\n",
    "    min_pt=[-150, -150], max_pt=[150, 150], shape=[300, 300], dtype='float32')\n",
    "\n",
    "angle_partition = odl.uniform_partition(all_angles[0], all_angles[-1], 240)\n",
    "detector_partition = odl.uniform_partition(-224, 224, szrow)\n",
    "geometry = odl.tomo.Parallel2dGeometry(angle_partition, detector_partition)\n",
    "reco = TVRecon(P, geometry, reco_space, 0.1, niter=1000).data\n",
    "im = plt.imshow(reco, cmap=\"gray\", vmin=vmin, vmax=vmax)\n",
    "plt.colorbar(im, fraction=0.045, pad=0.01)\n",
    "plt.title(\"Reconstruction using all angles\")\n",
    "plt.axis(\"off\")\n",
    "plt.savefig(\"TVdynamic_all.png\")\n"
   ]
  },
  {
   "cell_type": "markdown",
   "id": "d4468ee3",
   "metadata": {},
   "source": [
    "Compared to FBP:"
   ]
  },
  {
   "cell_type": "code",
   "execution_count": null,
   "id": "e9ae9188",
   "metadata": {},
   "outputs": [],
   "source": [
    "fig, ax = plt.subplots(2,len(frames_to_reconstruct), figsize=(16,8))\n",
    "\n",
    "for i,f in enumerate(frames_to_reconstruct):\n",
    "    vol_geom = astra.create_vol_geom(300, 300)\n",
    "    proj_geom = astra.create_proj_geom('parallel', 1.0, 448, all_angles[f:f+num_angles])\n",
    "    P = np.sum(volume[:,:,:], axis=1)[f:f+num_angles]\n",
    "\n",
    "    sino_id = astra.data2d.create('-sino', proj_geom, P)\n",
    "    rec_id = astra.data2d.create('-vol', vol_geom)\n",
    "    #proj_id = astra.create_projector('parallel', proj_geom, vol_geom)\n",
    "\n",
    "    # Configure algorithm\n",
    "    cfg = astra.astra_dict('FBP_CUDA')\n",
    "    cfg['ReconstructionDataId'] = rec_id\n",
    "    cfg['ProjectionDataId'] = sino_id\n",
    "    #cfg['ProjectorDataId'] = proj_id\n",
    "    alg_id = astra.algorithm.create(cfg)\n",
    "    # Run\n",
    "    astra.algorithm.run(alg_id, 100)\n",
    "    reco = astra.data2d.get(rec_id)\n",
    "    reco = np.flip(reco.T, axis=1)\n",
    "    astra.algorithm.delete(alg_id)\n",
    "    astra.data3d.delete(rec_id)\n",
    "    ax[1,i].imshow(reco-ground_truth[f,:,:], cmap=\"gray\")\n",
    "    ax[0,i].set_title(f'Frame {frames_to_reconstruct[i]}')\n",
    "    ax[0,i].imshow(reco, cmap=\"gray\")\n",
    "plt.show()"
   ]
  },
  {
   "cell_type": "code",
   "execution_count": null,
   "id": "ddfe4c78",
   "metadata": {},
   "outputs": [],
   "source": [
    "vol_geom = astra.create_vol_geom(300, 300)\n",
    "proj_geom = astra.create_proj_geom('parallel', 1.0, 448, np.linspace(0, 8.0*np.pi,240))\n",
    "\n",
    "\n",
    "P = np.sum(volume[:,:,:], axis=1)#[60:90]\n",
    "sino_id = astra.data2d.create('-sino', proj_geom, P)\n",
    "rec_id = astra.data2d.create('-vol', vol_geom)\n",
    "#proj_id = astra.create_projector('parallel', proj_geom, vol_geom)\n",
    "\n",
    "# Configure algorithm\n",
    "cfg = astra.astra_dict('FBP_CUDA')\n",
    "cfg['ReconstructionDataId'] = rec_id\n",
    "cfg['ProjectionDataId'] = sino_id\n",
    "#cfg['ProjectorDataId'] = proj_id\n",
    "alg_id = astra.algorithm.create(cfg)\n",
    "# Run\n",
    "astra.algorithm.run(alg_id, 100)\n",
    "reco = astra.data2d.get(rec_id)\n",
    "\n",
    "astra.algorithm.delete(alg_id)\n",
    "astra.data3d.delete(rec_id)\n",
    "plt.imshow(np.flip(reco.T, axis=1), cmap=\"gray\")\n",
    "plt.colorbar()\n",
    "#P.shape"
   ]
  },
  {
   "cell_type": "markdown",
   "id": "f4bf7071",
   "metadata": {},
   "source": [
    "A reconstruction using all angles"
   ]
  },
  {
   "cell_type": "markdown",
   "id": "f2c83724",
   "metadata": {},
   "source": [
    "### Reconstruction 2D static all data, TV Regularization, different $\\lambda$ values"
   ]
  },
  {
   "cell_type": "code",
   "execution_count": null,
   "id": "5f160e8c",
   "metadata": {},
   "outputs": [],
   "source": [
    "lamdas = [0.5, 0.05, 0.01, 0.001] \n",
    "P = np.sum(volume[:,:,:], axis=1)\n",
    "\n",
    "reco_space = odl.uniform_discr(\n",
    "    min_pt=[-150, -150], max_pt=[150, 150], shape=[300, 300], dtype='float32')\n",
    "\n",
    "angle_partition = odl.uniform_partition(all_angles[0], all_angles[-1], 240)\n",
    "detector_partition = odl.uniform_partition(-224, 224, szrow)\n",
    "geometry = odl.tomo.Parallel2dGeometry(angle_partition, detector_partition)\n",
    "reco = TVRecon(P, geometry, reco_space, 0.1, niter=1000).data\n",
    "\n",
    "result = np.zeros((len(lamdas), 300, 300))\n",
    "for i, lamda in tqdm(enumerate(lamdas)):\n",
    "    result[i,:,:] = TVRecon(P, geometry, reco_space, lamda).data\n",
    "    \n",
    "recon = result"
   ]
  },
  {
   "cell_type": "code",
   "execution_count": null,
   "id": "17dbac7c",
   "metadata": {
    "scrolled": false
   },
   "outputs": [],
   "source": [
    "titles = [r'$\\lambda$='+f' {l}' for l in lamdas]\n",
    "GT = np.array([ground_truth[f,:,:]]*len(titles))\n",
    "plot_results(recon, GT , titles, threshold_minimum, threshold_minimum)\n",
    "plot_stats(recon, GT, titles, threshold_minimum, threshold_minimum)"
   ]
  },
  {
   "cell_type": "code",
   "execution_count": null,
   "id": "baba3108",
   "metadata": {},
   "outputs": [],
   "source": [
    "fast = np.index_exp[:,100:175, 110:185]\n",
    "slow = np.index_exp[:,190:265, 70:145]\n",
    "static = np.index_exp[:,70:145,210:285]\n",
    "\n",
    "\n",
    "fig, ax = plt.subplots(1,3, figsize=(16,10))\n",
    "ax[0].imshow(recon[fast][2], cmap=\"gray\")\n",
    "ax[0].set_title(\"Fast moving\")\n",
    "ax[1].imshow(recon[static][2], cmap=\"gray\")\n",
    "ax[1].set_title(\"Static\")\n",
    "ax[2].imshow(recon[slow][2], cmap=\"gray\")\n",
    "ax[2].set_title(\"Slow\")\n",
    "#ax[0].axis(\"off\")\n",
    "#ax[1].axis(\"off\")\n",
    "#ax[2].axis(\"off\")\n",
    "plt.savefig(\"TVdynamic.png\")"
   ]
  },
  {
   "cell_type": "code",
   "execution_count": null,
   "id": "08929bc5",
   "metadata": {
    "scrolled": false
   },
   "outputs": [],
   "source": [
    "titles = [r'$\\lambda$='+f' {l}' for l in lamdas]\n",
    "GT = np.array([ground_truth[50,:,:]]*len(titles))\n",
    "plot_results(recon[fast], GT[fast] , titles, threshold_minimum, threshold_minimum)\n",
    "plot_stats(recon[fast], GT[fast], titles, threshold_minimum, threshold_minimum)"
   ]
  },
  {
   "cell_type": "code",
   "execution_count": null,
   "id": "fede91ce",
   "metadata": {
    "scrolled": false
   },
   "outputs": [],
   "source": [
    "titles = [r'$\\lambda$='+f' {l}' for l in lamdas]\n",
    "GT = np.array([ground_truth[50,:,:]]*len(titles))\n",
    "plot_results(recon[static], GT[static] , titles, threshold_minimum, threshold_minimum)\n",
    "plot_stats(recon[static], GT[static], titles, threshold_minimum, threshold_minimum)"
   ]
  },
  {
   "cell_type": "code",
   "execution_count": null,
   "id": "5aa4cc28",
   "metadata": {
    "scrolled": false
   },
   "outputs": [],
   "source": [
    "titles = [r'$\\lambda$='+f' {l}' for l in lamdas]\n",
    "GT = np.array([ground_truth[50,:,:]]*len(titles))\n",
    "plot_results(recon[slow], GT[slow] , titles, threshold_minimum, threshold_minimum)\n",
    "plot_stats(recon[slow], GT[slow], titles, threshold_minimum, threshold_minimum)"
   ]
  },
  {
   "cell_type": "markdown",
   "id": "9c42dc85",
   "metadata": {},
   "source": [
    "### Reconstruction static 2D frame by frame, TV regularixation at $\\lambda=0.01$"
   ]
  },
  {
   "cell_type": "code",
   "execution_count": null,
   "id": "acfc61a7",
   "metadata": {},
   "outputs": [],
   "source": [
    "lamda = 0.01#this parameter controls degree of regularization - useless for many angles/little noise, smoother reconstructions for few angles\n",
    "\n",
    "result = np.zeros((len(frames_to_reconstruct), reco_space.shape[0], reco_space.shape[1]))\n",
    "\n",
    "for i,frame in tqdm(enumerate(frames_to_reconstruct)):\n",
    "    P = np.sum(volume[:,:,:], axis=1)[frame:frame+num_angles]\n",
    "\n",
    "    reco_space = odl.uniform_discr(\n",
    "        min_pt=[-150, -150], max_pt=[150, 150], shape=[300, 300], dtype='float32')\n",
    "\n",
    "    angle_partition = odl.uniform_partition(all_angles[frame], all_angles[frame+num_angles], num_angles)\n",
    "    detector_partition = odl.uniform_partition(-224, 224, szrow)\n",
    "    geometry = odl.tomo.Parallel2dGeometry(angle_partition, detector_partition)\n",
    "    reco = TVRecon(P, geometry, reco_space, 0.1, niter=1000).data\n",
    "    result[i] = reco\n",
    "\n",
    "recon_f = result"
   ]
  },
  {
   "cell_type": "code",
   "execution_count": null,
   "id": "1701af81",
   "metadata": {},
   "outputs": [],
   "source": [
    "all_angles[frames_to_reconstruct]"
   ]
  },
  {
   "cell_type": "code",
   "execution_count": null,
   "id": "d6a4f71c",
   "metadata": {
    "scrolled": false
   },
   "outputs": [],
   "source": [
    "titles = [f'frame={f}' for f in frames_to_reconstruct]\n",
    "GT = ground_truth[frames_to_reconstruct,:,:]\n",
    "\n",
    "plot_results(recon_f, GT , titles, threshold_minimum, threshold_minimum)\n",
    "plot_stats(recon_f, GT, titles, threshold_minimum, threshold_minimum)"
   ]
  },
  {
   "cell_type": "code",
   "execution_count": null,
   "id": "3b4833f3",
   "metadata": {},
   "outputs": [],
   "source": [
    "titles = [f'frame={f}' for f in frames_to_reconstruct]\n",
    "GT = ground_truth[frames_to_reconstruct,:,:]\n",
    "\n",
    "plot_results(recon_f[fast], GT[fast] , titles, threshold_minimum, threshold_minimum)\n",
    "plot_stats(recon_f[fast], GT[fast], titles, threshold_minimum, threshold_minimum)"
   ]
  },
  {
   "cell_type": "code",
   "execution_count": null,
   "id": "2141809c",
   "metadata": {},
   "outputs": [],
   "source": [
    "titles = [f'frame={f}' for f in frames_to_reconstruct]\n",
    "GT = ground_truth[frames_to_reconstruct,:,:]\n",
    "\n",
    "plot_results(recon_f[static], GT[static] , titles, threshold_minimum, threshold_minimum)\n",
    "plot_stats(recon_f[static], GT[static], titles, threshold_minimum, threshold_minimum)"
   ]
  },
  {
   "cell_type": "code",
   "execution_count": null,
   "id": "9486afaf",
   "metadata": {},
   "outputs": [],
   "source": [
    "titles = [f'frame={f}' for f in frames_to_reconstruct]\n",
    "GT = ground_truth[frames_to_reconstruct,:,:]\n",
    "\n",
    "plot_results(recon_f[slow], GT[slow] , titles, threshold_minimum, threshold_minimum)\n",
    "plot_stats(recon_f[slow], GT[slow], titles, threshold_minimum, threshold_minimum)"
   ]
  },
  {
   "cell_type": "markdown",
   "id": "f9a4e481",
   "metadata": {},
   "source": [
    "### Reconstruction with TV regularization in time dimension, $\\lambda_1=0.01$, frame = 50, varying  $\\lambda_2$"
   ]
  },
  {
   "cell_type": "code",
   "execution_count": null,
   "id": "8e2d82f7",
   "metadata": {},
   "outputs": [],
   "source": [
    "\n",
    "lamda1 = 0.01\n",
    "lamda2 = np.array([0.1, 1.0, 5.0, 10.0])\n",
    "\n",
    "#to save time lets just use frames 0-100. Should be enough. We're only looking at frame 50 and most movement occurs frame 40-60, meaning by using angles 0-100 we get 40 angles with very little movement and we're using 30 for reconstructing each frame\n",
    "f=35\n",
    "frame_used_in_recon = 100\n",
    "sz = 300\n",
    "ts = range(0,frame_used_in_recon)\n",
    "thetas_all = all_angles[0:frame_used_in_recon]#np.array([theta_from_t(t) for t in ts]) #angles for full acquisition\n",
    "detector_partition = odl.uniform_partition(-224, 224, 448)#last number max_pt is important\n",
    "reconstruction_space = odl.uniform_discr(min_pt=[-150, -150, 0], max_pt=[150, 150, 1], shape=[sz, sz, 70], dtype='float32')\n",
    "\n",
    "recon_t = np.zeros((len(lamda2), sz,sz))\n",
    "for i,l in tqdm(enumerate(lamda2)):\n",
    "    x, sinogram_spaces = TVReconTime(np.sum(volume[0:frame_used_in_recon,:,:], axis=1), reconstruction_space, lamda1, l, frame_used_in_recon-num_angles, thetas_all, 30, detector_partition)\n",
    "    recon_t[i,:,:] = x.data[:,:,f]"
   ]
  },
  {
   "cell_type": "code",
   "execution_count": null,
   "id": "26026102",
   "metadata": {
    "scrolled": false
   },
   "outputs": [],
   "source": [
    "titles = [r'$\\lambda_2=$'+f'{l}' for l in lamda2]\n",
    "GT = np.array([ground_truth[50,:,:]]*len(titles))\n",
    "\n",
    "p1 = plot_results(recon_t, GT , titles, threshold_minimum, threshold_minimum)\n",
    "p2 = plot_stats(recon_t, GT, titles, threshold_minimum, threshold_minimum)"
   ]
  },
  {
   "cell_type": "code",
   "execution_count": null,
   "id": "a2f59fa5",
   "metadata": {},
   "outputs": [],
   "source": [
    "titles = [r'$\\lambda_2=$'+f'{l}' for l in lamda2]\n",
    "GT = np.array([ground_truth[50,:,:]]*len(titles))\n",
    "\n",
    "plot_results(recon_t[fast], GT[fast] , titles, threshold_minimum, threshold_minimum)\n",
    "plot_stats(recon_t[fast], GT[fast], titles, threshold_minimum, threshold_minimum)"
   ]
  },
  {
   "cell_type": "code",
   "execution_count": null,
   "id": "7667920b",
   "metadata": {},
   "outputs": [],
   "source": [
    "titles = [r'$\\lambda_2=$'+f'{l}' for l in lamda2]\n",
    "GT = np.array([ground_truth[50,:,:]]*len(titles))\n",
    "\n",
    "plot_results(recon_t[static], GT[static] , titles, threshold_minimum, threshold_minimum)\n",
    "plot_stats(recon_t[static], GT[static], titles, threshold_minimum, threshold_minimum)"
   ]
  },
  {
   "cell_type": "code",
   "execution_count": null,
   "id": "75b03257",
   "metadata": {},
   "outputs": [],
   "source": [
    "titles = [r'$\\lambda_2=$'+f'{l}' for l in lamda2]\n",
    "GT = np.array([ground_truth[50,:,:]]*len(titles))\n",
    "\n",
    "plot_results(recon_t[slow], GT[slow] , titles, threshold_minimum, threshold_minimum)\n",
    "plot_stats(recon_t[slow], GT[slow], titles, threshold_minimum, threshold_minimum)"
   ]
  },
  {
   "cell_type": "code",
   "execution_count": null,
   "id": "a0bc3e57",
   "metadata": {},
   "outputs": [],
   "source": []
  },
  {
   "cell_type": "code",
   "execution_count": null,
   "id": "12c28c38",
   "metadata": {},
   "outputs": [],
   "source": []
  },
  {
   "cell_type": "code",
   "execution_count": null,
   "id": "7f23789b",
   "metadata": {},
   "outputs": [],
   "source": []
  }
 ],
 "metadata": {
  "kernelspec": {
   "display_name": "odl-py37",
   "language": "python",
   "name": "odl-py37"
  },
  "language_info": {
   "codemirror_mode": {
    "name": "ipython",
    "version": 3
   },
   "file_extension": ".py",
   "mimetype": "text/x-python",
   "name": "python",
   "nbconvert_exporter": "python",
   "pygments_lexer": "ipython3",
   "version": "3.7.11"
  }
 },
 "nbformat": 4,
 "nbformat_minor": 5
}
