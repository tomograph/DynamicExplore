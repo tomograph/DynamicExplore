{
 "cells": [
  {
   "cell_type": "code",
   "execution_count": null,
   "metadata": {},
   "outputs": [],
   "source": [
    "%matplotlib inline"
   ]
  },
  {
   "cell_type": "markdown",
   "metadata": {},
   "source": [
    "\n",
    "# Mouse move and click events\n",
    "\n",
    "An example of how to interact with the plotting canvas by connecting to move\n",
    "and click events.\n"
   ]
  },
  {
   "cell_type": "code",
   "execution_count": null,
   "metadata": {},
   "outputs": [],
   "source": [
    "from matplotlib.backend_bases import MouseButton\n",
    "import matplotlib.pyplot as plt\n",
    "import numpy as np\n",
    "\n",
    "t = np.arange(0.0, 1.0, 0.01)\n",
    "s = np.sin(2 * np.pi * t)\n",
    "fig, ax = plt.subplots()\n",
    "ax.plot(t, s)\n",
    "\n",
    "\n",
    "def on_move(event):\n",
    "    # get the x and y pixel coords\n",
    "    x, y = event.x, event.y\n",
    "    if event.inaxes:\n",
    "        ax = event.inaxes  # the axes instance\n",
    "        print('data coords %f %f' % (event.xdata, event.ydata))\n",
    "\n",
    "\n",
    "def on_click(event):\n",
    "    if event.button is MouseButton.LEFT:\n",
    "        print('disconnecting callback')\n",
    "        plt.disconnect(binding_id)\n",
    "\n",
    "\n",
    "binding_id = plt.connect('motion_notify_event', on_move)\n",
    "plt.connect('button_press_event', on_click)\n",
    "\n",
    "plt.show()"
   ]
  }
 ],
 "metadata": {
  "kernelspec": {
   "display_name": "Python 3",
   "language": "python",
   "name": "python3"
  },
  "language_info": {
   "codemirror_mode": {
    "name": "ipython",
    "version": 3
   },
   "file_extension": ".py",
   "mimetype": "text/x-python",
   "name": "python",
   "nbconvert_exporter": "python",
   "pygments_lexer": "ipython3",
   "version": "3.7.9"
  }
 },
 "nbformat": 4,
 "nbformat_minor": 1
}
